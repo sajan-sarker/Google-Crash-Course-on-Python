{
  "metadata": {
    "kernelspec": {
      "name": "python",
      "display_name": "Python (Pyodide)",
      "language": "python"
    },
    "language_info": {
      "codemirror_mode": {
        "name": "python",
        "version": 3
      },
      "file_extension": ".py",
      "mimetype": "text/x-python",
      "name": "python",
      "nbconvert_exporter": "python",
      "pygments_lexer": "ipython3",
      "version": "3.8"
    }
  },
  "nbformat_minor": 4,
  "nbformat": 4,
  "cells": [
    {
      "cell_type": "code",
      "source": "name = \"Alex\"\nfor x in (name):\n    print (x)",
      "metadata": {
        "trusted": true
      },
      "outputs": [
        {
          "name": "stdout",
          "text": "A\nl\ne\nx\n",
          "output_type": "stream"
        }
      ],
      "execution_count": 4
    },
    {
      "cell_type": "code",
      "source": "message = \"A kong string with a silly typo\"\nnew_message = message[0:2] + \"L\" + message[3:]\nprint(new_message)",
      "metadata": {
        "trusted": true
      },
      "outputs": [
        {
          "name": "stdout",
          "text": "A Long string with a silly typo\n",
          "output_type": "stream"
        }
      ],
      "execution_count": 8
    },
    {
      "cell_type": "code",
      "source": "pets = \"Dogs & Cats\"\n\"Dragons\" in pets\n\"Cats\" in pets",
      "metadata": {
        "trusted": true
      },
      "outputs": [
        {
          "execution_count": 11,
          "output_type": "execute_result",
          "data": {
            "text/plain": "True"
          },
          "metadata": {}
        }
      ],
      "execution_count": 11
    },
    {
      "cell_type": "code",
      "source": "pets = \"Dogs & Cats\"\npets.index(\"&\")",
      "metadata": {
        "trusted": true
      },
      "outputs": [
        {
          "execution_count": 12,
          "output_type": "execute_result",
          "data": {
            "text/plain": "5"
          },
          "metadata": {}
        }
      ],
      "execution_count": 12
    },
    {
      "cell_type": "code",
      "source": "animals = \"Lions tigers and bears\"\nprint(\"horses\" in animals)\nprint(\"tigers\" in animals)",
      "metadata": {
        "trusted": true
      },
      "outputs": [
        {
          "name": "stdout",
          "text": "False\nTrue\n",
          "output_type": "stream"
        }
      ],
      "execution_count": 31
    },
    {
      "cell_type": "code",
      "source": "print(\"tiger\".upper())\nprint(\"Tiger\".lower())",
      "metadata": {
        "trusted": true
      },
      "outputs": [
        {
          "name": "stdout",
          "text": "TIGER\ntiger\n",
          "output_type": "stream"
        }
      ],
      "execution_count": 34
    },
    {
      "cell_type": "code",
      "source": "print(\"   yes   \")\nprint(\"   yes   \".strip())\nprint(\"   yes   \".rstrip())\nprint(\"   yes   \".lstrip())",
      "metadata": {
        "trusted": true
      },
      "outputs": [
        {
          "name": "stdout",
          "text": "   yes   \nyes\n   yes\nyes   \n",
          "output_type": "stream"
        }
      ],
      "execution_count": 38
    },
    {
      "cell_type": "code",
      "source": "\"adsf dsaf dsfa eirft df sa, dsfdslf ,d fsf er  gdf mvl;kx p df ljkfs\".count(\"f\")",
      "metadata": {
        "trusted": true
      },
      "outputs": [
        {
          "execution_count": 43,
          "output_type": "execute_result",
          "data": {
            "text/plain": "12"
          },
          "metadata": {}
        }
      ],
      "execution_count": 43
    },
    {
      "cell_type": "code",
      "source": "print(\"Forest\".endswith(\"est\"))\nprint(\"Forest\".isnumeric())\nprint(\"4168489\".isnumeric())",
      "metadata": {
        "trusted": true
      },
      "outputs": [
        {
          "name": "stdout",
          "text": "True\nFalse\nTrue\n",
          "output_type": "stream"
        }
      ],
      "execution_count": 47
    },
    {
      "cell_type": "code",
      "source": "print(\" \".join([\"join\", \"by\", \"space\"]))\nprint(\"...\".join([\"Join\", \"by\", \"triple\", \"dots\"]))\nprint(\"Split that line\".split())",
      "metadata": {
        "trusted": true
      },
      "outputs": [
        {
          "name": "stdout",
          "text": "join by space\nJoin...by...triple...dots\n['Split', 'that', 'line']\n",
          "output_type": "stream"
        }
      ],
      "execution_count": 51
    },
    {
      "cell_type": "code",
      "source": "name = \"Jack\"\nname2 = \"Tommy\"\nnumber = len(name) * 3\nprint(\"Hello {}, your lucky number is: {}\".format(name, number))\nprint(\"Hello {}, your lucky number is: {}\".format(name, len(name2)*9))",
      "metadata": {
        "trusted": true
      },
      "outputs": [
        {
          "name": "stdout",
          "text": "Hello Jack, your lucky number is: 12\nHello Jack, your lucky number is: 45\n",
          "output_type": "stream"
        }
      ],
      "execution_count": 56
    },
    {
      "cell_type": "code",
      "source": "price = 7.5\nwith_tax = price * 1.09\nprint(price, with_tax)\nprint(\"Base price ${:.2f}. with Tax: ${:.2f}\".format(price, with_tax))",
      "metadata": {
        "trusted": true
      },
      "outputs": [
        {
          "name": "stdout",
          "text": "7.5 8.175\nBase price $7.50. with Tax: $8.18\n",
          "output_type": "stream"
        }
      ],
      "execution_count": 58
    },
    {
      "cell_type": "code",
      "source": "def to_celsius(temp):\n    return (temp-32) * 5/9\n\nfor x in range(0, 101, 10):\n    print(\"Temparatures: {:>10.2F} F | {:>10.3f} C\".format(x, to_celsius(x)))",
      "metadata": {
        "trusted": true
      },
      "outputs": [
        {
          "name": "stdout",
          "text": "Temparatures:       0.00 F |    -17.778 C\nTemparatures:      10.00 F |    -12.222 C\nTemparatures:      20.00 F |     -6.667 C\nTemparatures:      30.00 F |     -1.111 C\nTemparatures:      40.00 F |      4.444 C\nTemparatures:      50.00 F |     10.000 C\nTemparatures:      60.00 F |     15.556 C\nTemparatures:      70.00 F |     21.111 C\nTemparatures:      80.00 F |     26.667 C\nTemparatures:      90.00 F |     32.222 C\nTemparatures:     100.00 F |     37.778 C\n",
          "output_type": "stream"
        }
      ],
      "execution_count": 70
    },
    {
      "cell_type": "code",
      "source": "text = \"How much plastic would a plasticchuck chuck\"\nprint(text)\ntext2 = text.replace(\"plastic\", \"wood\")\nprint(text2)\ntext3 = text2.split()\nprint(text3)\ntext4 = \"_\".join(text3)\nprint(text4)",
      "metadata": {
        "trusted": true
      },
      "outputs": [
        {
          "name": "stdout",
          "text": "How much plastic would a plasticchuck chuck\nHow much wood would a woodchuck chuck\n['How', 'much', 'wood', 'would', 'a', 'woodchuck', 'chuck']\nHow_much_wood_would_a_woodchuck_chuck\n",
          "output_type": "stream"
        }
      ],
      "execution_count": 93
    },
    {
      "cell_type": "code",
      "source": "basket = [(\"peaches\", 3.0, 2.99), (\"Pears\", 5.0, 1.66), (\"Plums\", 2.5, 3.99)]\n\nsubtotal = 0\nfor items in basket:\n    items = fruit, weight, unit_price\n    subtotal += (weight * unit_price)\n    \ntax_rate = 0.06625\ntax_amount = subtotal * tax_rate\ntotal = subtotal + tax_amount\n\nprint(\"Subtotal: \", subtotal)\nprint(\"Sales Tax: \", tax_amount)\nprint(\"Total: \", total)\n\nprint(\"Subtotal : {:^6.2f}\".format(subtotal))\nprint(\"Sales Tax: {:^6.2f}\".format(tax_amount))\nprint(\"Total    : {:^6.2f}\".format(total))",
      "metadata": {
        "trusted": true
      },
      "outputs": [
        {
          "name": "stdout",
          "text": "Subtotal:  26.910000000000004\nSales Tax:  1.7827875000000004\nTotal:  28.692787500000005\nSubtotal : 26.91 \nSales Tax:  1.78 \nTotal    : 28.69 \n",
          "output_type": "stream"
        }
      ],
      "execution_count": 124
    },
    {
      "cell_type": "code",
      "source": "def mirrored_string(my_string):\n    forwards = \"\"\n    backwards = \"\"\n    for character in my_string:\n        if character.isalpha():\n            forwards += character\n            backwards = character + backwards\n\n    if forwards.lower() == backwards.lower():\n        return True\n    else:\n        return False\n\n\nprint(mirrored_string(\"12 Noon\"))\nprint(mirrored_string(\"was it a car or cat I saw\"))\nprint(mirrored_string(\"Eve, Madam Eve\"))\n",
      "metadata": {
        "trusted": true
      },
      "outputs": [
        {
          "name": "stdout",
          "text": "True\nFalse\nTrue\n",
          "output_type": "stream"
        }
      ],
      "execution_count": 130
    },
    {
      "cell_type": "code",
      "source": "def convert_weight(ounces):\n    pounds = ounces/16\n    result = \"{:.2f} ounces equals {:.2f} pounds.\".format(ounces,pounds)\n    return result\n\nprint(convert_weight(12))\nprint(convert_weight(50.5))\nprint(convert_weight(16))",
      "metadata": {
        "trusted": true
      },
      "outputs": [
        {
          "name": "stdout",
          "text": "12.00 ounces equals 0.75 pounds.\n50.50 ounces equals 3.16 pounds.\n16.00 ounces equals 1.00 pounds.\n",
          "output_type": "stream"
        }
      ],
      "execution_count": 132
    },
    {
      "cell_type": "code",
      "source": "def username(last_name, birth_year):\n    result = (\"{}{}\".format(last_name[:3], str(birth_year)))\n    return result\n\nprint(username(\"Inanov\", 1985))\nprint(username(\"Rodriguez\", 2000))\nprint(username(\"Deng\", 1991))",
      "metadata": {
        "trusted": true
      },
      "outputs": [
        {
          "name": "stdout",
          "text": "Ina1985\nRod2000\nDen1991\n",
          "output_type": "stream"
        }
      ],
      "execution_count": 134
    },
    {
      "cell_type": "code",
      "source": "def replace_date(schedule, old_date, new_date):\n    if schedule.endswith(old_date):\n        p = len(old_date)\n\n        new_schedule = schedule[:-p] + schedule[-p:].replace(old_date, new_date)\n        return new_schedule\n    return schedule\n    \nprint(replace_date(\"Last year’s annual report will be released in March 2023\", \"2023\", \"2024\")) \nprint(replace_date(\"In April, the CEO will hold a conference\", \"April\", \"May\")) \nprint(replace_date(\"The convention is scheduled for October\", \"October\", \"June\")) ",
      "metadata": {
        "trusted": true
      },
      "outputs": [
        {
          "name": "stdout",
          "text": "Last year’s annual report will be released in March 2024\nIn April, the CEO will hold a conference\nThe convention is scheduled for June\n",
          "output_type": "stream"
        }
      ],
      "execution_count": 144
    },
    {
      "cell_type": "code",
      "source": "list = [ 5, 6, 7, 8]\nprint(type(list))\nprint(list)\nprint(len(list))\nprint(5 in list)\nprint(list[0])\nprint(list[:3])",
      "metadata": {
        "trusted": true
      },
      "outputs": [
        {
          "name": "stdout",
          "text": "<class 'list'>\n[5, 6, 7, 8]\n4\nTrue\n5\n[5, 6, 7]\n",
          "output_type": "stream"
        }
      ],
      "execution_count": 7
    },
    {
      "cell_type": "code",
      "source": "def get_word(sentence, n):\n    if n>0:\n        words = sentence.split()\n        if n<= len(words):\n            return words[n-1]\n    return (\"\")\n\nprint(get_word(\"This is a lesson about list\", 4))\nprint(get_word(\"This is a lesson about list\", -4))\nprint(get_word(\"Now we are cooking.\", 1))\nprint(get_word(\"Now we are cooking.\", 5))",
      "metadata": {
        "trusted": true
      },
      "outputs": [
        {
          "name": "stdout",
          "text": "lesson\n\nNow\n\n",
          "output_type": "stream"
        }
      ],
      "execution_count": 10
    },
    {
      "cell_type": "code",
      "source": "fruits = [\"Pinapple\", \"Banana\", \"Apple\", \"Melom\"]\nprint(fruits)\nfruits.append(\"Kiwi\")\nprint(fruits)\nfruits.insert(0, \"Orange\")\nprint(fruits)\nfruits.insert(25, \"Peach\")\nprint(fruits)\nfruits.remove(\"Banana\")\nprint(fruits)\nfruits.pop(3)\nprint(fruits)\nfruits[2] = \"Strawberry\"\nprint(fruits)",
      "metadata": {
        "trusted": true
      },
      "outputs": [
        {
          "name": "stdout",
          "text": "['Pinapple', 'Banana', 'Apple', 'Melom']\n['Pinapple', 'Banana', 'Apple', 'Melom', 'Kiwi']\n['Orange', 'Pinapple', 'Banana', 'Apple', 'Melom', 'Kiwi']\n['Orange', 'Pinapple', 'Banana', 'Apple', 'Melom', 'Kiwi', 'Peach']\n['Orange', 'Pinapple', 'Apple', 'Melom', 'Kiwi', 'Peach']\n['Orange', 'Pinapple', 'Apple', 'Kiwi', 'Peach']\n['Orange', 'Pinapple', 'Strawberry', 'Kiwi', 'Peach']\n",
          "output_type": "stream"
        }
      ],
      "execution_count": 19
    },
    {
      "cell_type": "code",
      "source": "def convert_seconds(seconds):\n    hours = seconds // 3600\n    minutes = (seconds - hours * 3600) // 60\n    remaining_seconds = seconds - hours * 3600 - minutes * 60\n    return hours, minutes, remaining_seconds\n\nresult = convert_seconds(5000)\nprint(type(result))\nprint(result)\nhours, minutes, seconds = result\nprint(hours, minutes, seconds)\n\nhours, minutes, seconds = convert_seconds(1000)\nprint(hours, minutes, seconds)",
      "metadata": {
        "trusted": true
      },
      "outputs": [
        {
          "name": "stdout",
          "text": "<class 'tuple'>\n(1, 23, 20)\n1 23 20\n0 16 40\n",
          "output_type": "stream"
        }
      ],
      "execution_count": 24
    },
    {
      "cell_type": "code",
      "source": "def file_size(file_info):\n    name, type, size = file_info\n    return (\"{:.2f}\".format(size/1024))\n\nprint(file_size((\"Class Assignment\", \"docx\", 17875)))\nprint(file_size((\"Notes\", \"txt\", 496)))\nprint(file_size((\"Program\", \"py\", 1237)))",
      "metadata": {
        "trusted": true
      },
      "outputs": [
        {
          "name": "stdout",
          "text": "17.46\n0.48\n1.21\n",
          "output_type": "stream"
        }
      ],
      "execution_count": 26
    },
    {
      "cell_type": "code",
      "source": "animals = ['Lion', 'Zebra', 'Dolphin', 'Monkey']\nchars = 0\nfor animal in animals:\n    chars += len(animal)\n\nprint(\"Total characters: {}, Average length: {}\".format(chars, chars/len(animals)))",
      "metadata": {
        "trusted": true
      },
      "outputs": [
        {
          "name": "stdout",
          "text": "Total characters: 22, Average length: 5.5\n",
          "output_type": "stream"
        }
      ],
      "execution_count": 27
    },
    {
      "cell_type": "code",
      "source": "winners = [\"Alex\", \"jen\", \"Katty\"]\n\nfor index, person in enumerate(winners):\n    print(\"{} - {}\".format(index + 1, person))",
      "metadata": {
        "trusted": true
      },
      "outputs": [
        {
          "name": "stdout",
          "text": "1 - Alex\n2 - jen\n3 - Katty\n",
          "output_type": "stream"
        }
      ],
      "execution_count": 29
    },
    {
      "cell_type": "code",
      "source": "def full_emails(people):\n    result = []\n    for email, name in people:\n        result.append(\"{} <{}>\".format(name, email))\n    return result\n\nprint(full_emails([(\"alex@gmail.com\", \"Alex Diego\"), (\"shay@hotmail.com\", \"Shay Brandt\")]))",
      "metadata": {
        "trusted": true
      },
      "outputs": [
        {
          "name": "stdout",
          "text": "['Alex Diego <alex@gmail.com>', 'Shay Brandt <shay@hotmail.com>']\n",
          "output_type": "stream"
        }
      ],
      "execution_count": 33
    },
    {
      "cell_type": "code",
      "source": "store = []\nfor i in range (10):\n    store.append(i+1)\n\nprint(store)",
      "metadata": {
        "trusted": true
      },
      "outputs": [
        {
          "name": "stdout",
          "text": "[1, 2, 3, 4, 5, 6, 7, 8, 9, 10]\n",
          "output_type": "stream"
        }
      ],
      "execution_count": 35
    },
    {
      "cell_type": "code",
      "source": "def skip_elements(elements):\n    result = []\n    for index, element in enumerate(elements):\n        if index % 2 == 0:\n            result.append(element)\n    return result\n\nprint(skip_elements([\"a\", \"b\", \"c\", \"d\", \"e\", \"f\", \"g\"]))\nprint(skip_elements([\"Orange\", \"Pineapple\", \"strawberry\", \"Kiwi\", \"Peach\"]))",
      "metadata": {
        "trusted": true
      },
      "outputs": [
        {
          "name": "stdout",
          "text": "['a', 'c', 'e', 'g']\n['Orange', 'strawberry', 'Peach']\n",
          "output_type": "stream"
        }
      ],
      "execution_count": 46
    },
    {
      "cell_type": "code",
      "source": "def div_by_five(numbers):\n    result = []\n    for index, number in enumerate(numbers):\n        if index %5 ==0:\n            result.append(number)\n    return result\n\nnumbers = [12, 34, 54, 234, 45, 44, 33, 11, 56, 89, 100]\nprint(div_by_five(numbers))",
      "metadata": {
        "trusted": true
      },
      "outputs": [
        {
          "name": "stdout",
          "text": "[12, 44, 100]\n",
          "output_type": "stream"
        }
      ],
      "execution_count": 52
    },
    {
      "cell_type": "code",
      "source": "languages = [ 'Python', 'Perl', 'Ruby', 'Go', 'Java', 'C', 'C#']\nlengths = []\nfor language in languages:\n    lengths.append(len(language))\nprint(lengths)\n\n#another form\nlengths  = [len(language) for language in languages]\nprint(lengths)",
      "metadata": {
        "trusted": true
      },
      "outputs": [
        {
          "name": "stdout",
          "text": "[6, 4, 4, 2, 4, 1, 2]\n[6, 4, 4, 2, 4, 1, 2]\n",
          "output_type": "stream"
        }
      ],
      "execution_count": 62
    },
    {
      "cell_type": "code",
      "source": "z = []\nfor x in range(0,21):\n    if x%3 ==0:\n        z.append(x)\nprint(z)\n\n#another form\nz = [x for x in range(0, 21) if x%3 == 0]\nprint( z)",
      "metadata": {
        "trusted": true
      },
      "outputs": [
        {
          "name": "stdout",
          "text": "[0, 3, 6, 9, 12, 15, 18]\n[0, 3, 6, 9, 12, 15, 18]\n",
          "output_type": "stream"
        }
      ],
      "execution_count": 63
    },
    {
      "cell_type": "code",
      "source": "def odd_numbers(n):\n    return [x for x in range(1, n+1) if n % 2 != 0]\n\nprint(odd_numbers(5))\nprint(odd_numbers(9))\nprint(odd_numbers(11))\nprint(odd_numbers(1))\nprint(odd_numbers(-1))",
      "metadata": {
        "trusted": true
      },
      "outputs": [
        {
          "name": "stdout",
          "text": "[1, 2, 3, 4, 5]\n[1, 2, 3, 4, 5, 6, 7, 8, 9]\n[1, 2, 3, 4, 5, 6, 7, 8, 9, 10, 11]\n[1]\n[]\n",
          "output_type": "stream"
        }
      ],
      "execution_count": 70
    },
    {
      "cell_type": "code",
      "source": "past_due = [ i for i in invoices if i.age > 30 and not ",
      "metadata": {
        "trusted": true
      },
      "outputs": [],
      "execution_count": null
    },
    {
      "cell_type": "code",
      "source": "print(\"List Comprehension Result:\")\nprint([x for x in range(1,101) if x%10 == 0])\n\nprint(\"Long form code Result:\")\nlist = []\nfor x in range (1, 101):\n    if x % 10 == 0:\n        list.append(x)\n\nprint(list)",
      "metadata": {
        "trusted": true
      },
      "outputs": [
        {
          "name": "stdout",
          "text": "List Comprehension Result:\n[10, 20, 30, 40, 50, 60, 70, 80, 90, 100]\nLong form code Result:\n[10, 20, 30, 40, 50, 60, 70, 80, 90, 100]\n",
          "output_type": "stream"
        }
      ],
      "execution_count": 74
    },
    {
      "cell_type": "code",
      "source": "def squares(start,end):\n    return [x**2 for x in range(start, end+1)]\n\nprint(squares(2,3))\nprint(squares(1,5))\nprint(squares(0,10))",
      "metadata": {
        "trusted": true
      },
      "outputs": [
        {
          "name": "stdout",
          "text": "[4, 9]\n[1, 4, 9, 16, 25]\n[0, 1, 4, 9, 16, 25, 36, 49, 64, 81, 100]\n",
          "output_type": "stream"
        }
      ],
      "execution_count": 76
    },
    {
      "cell_type": "code",
      "source": "tuple = (1, 2, ['a', 'b', 'c'])\nprint(tuple)\n\ntuple [2][0] = 'x'\nprint(tuple)",
      "metadata": {
        "trusted": true
      },
      "outputs": [
        {
          "name": "stdout",
          "text": "(1, 2, ['a', 'b', 'c'])\n(1, 2, ['x', 'b', 'c'])\n",
          "output_type": "stream"
        }
      ],
      "execution_count": 78
    },
    {
      "cell_type": "code",
      "source": "def calculate_numbers(a, b):\n    return a+b, a-b, a*b, a//b\n\nprint(calculate_numbers(10, 2))\n\n#unpack\nadd, sub, mul, div = calculate_numbers(10,2)\nprint(add)\nprint(mul)",
      "metadata": {
        "trusted": true
      },
      "outputs": [
        {
          "name": "stdout",
          "text": "(12, 8, 20, 5)\n12\n20\n",
          "output_type": "stream"
        }
      ],
      "execution_count": 80
    },
    {
      "cell_type": "code",
      "source": "years = [\"January 2023\", \"May 2025\", \"April 2023\", \"August 2024\", \"September 2025\", \"December 2023\"]\nupdated_years = []\n\nfor year in years:\n    if year.endswith(\"2023\"):\n        updated_years.append(year.replace(\"2023\", \"2024\"))\n    else:\n        updated_years.append(year)\nprint(years)\nprint(updated_years)",
      "metadata": {
        "trusted": true
      },
      "outputs": [
        {
          "name": "stdout",
          "text": "['January 2023', 'May 2025', 'April 2023', 'August 2024', 'September 2025', 'December 2023']\n['January 2024', 'May 2025', 'April 2024', 'August 2024', 'September 2025', 'December 2024']\n",
          "output_type": "stream"
        }
      ],
      "execution_count": 81
    },
    {
      "cell_type": "code",
      "source": "years = [\"January 2023\", \"May 2025\", \"April 2023\", \"August 2024\", \"September 2025\", \"December 2023\"]\n\nupdated_years = [year.replace(\"2023\", \"2024\") if year[-4:] == \"2023\" else year for year in years]\nprint(years)\nprint(updated_years)",
      "metadata": {
        "trusted": true
      },
      "outputs": [
        {
          "name": "stdout",
          "text": "['January 2023', 'May 2025', 'April 2023', 'August 2024', 'September 2025', 'December 2023']\n['January 2024', 'May 2025', 'April 2024', 'August 2024', 'September 2025', 'December 2024']\n",
          "output_type": "stream"
        }
      ],
      "execution_count": 83
    },
    {
      "cell_type": "code",
      "source": "def change_string(given_string):\n    new_string = \"\"\n    new_list = given_string.split()\n\n    for string in new_list:\n        new_string += string[1:] + \"-\" + string[0] + \" \"\n        \n    return new_string\n\nprint(change_string(\"1one 2two 3three 4four 5five\"))\n        ",
      "metadata": {
        "trusted": true
      },
      "outputs": [
        {
          "name": "stdout",
          "text": "one-1 two-2 three-3 four-4 five-5 \n",
          "output_type": "stream"
        }
      ],
      "execution_count": 102
    },
    {
      "cell_type": "code",
      "source": "def list_elements(list_name, elements):\n    return \"The \" + list_name + \" list includs: \" + \", \".join(elements)\n\nprint(list_elements(\"Printers\", [\"color printer\", \"Black & White Printer\", \"3-D Printer\"]))",
      "metadata": {
        "trusted": true
      },
      "outputs": [
        {
          "name": "stdout",
          "text": "The Printers list includs: color printer, Black & White Printer, 3-D Printer\n",
          "output_type": "stream"
        }
      ],
      "execution_count": 94
    },
    {
      "cell_type": "code",
      "source": "def add_one(number):\n    return number + 1\n\nnumbers = [1, 2, 3, 4, 5]\nresult = map(add_one, numbers)\nprint(list(result))\n\n#Output: [2, 3, 4, 5, 6]",
      "metadata": {
        "trusted": true
      },
      "outputs": [],
      "execution_count": null
    },
    {
      "cell_type": "code",
      "source": "names = ['Alex', 'Jen', 'Katty']\nages = [24, 26, 21]\n\ncombine = zip(names, ages)\n\nprint(list(combine))\n\n# Outputs: [('Alice', 25), ('Bob', 30), ('Charlie', 35)]",
      "metadata": {
        "trusted": true
      },
      "outputs": [],
      "execution_count": null
    },
    {
      "cell_type": "code",
      "source": "#Dictionaries\nfiles = {\"jpg\": 10, \"txt\": 14, \"csv\": 2, \"py\": 24}\nprint(files)\nprint(files[\"txt\"])\nprint(\"jpg\" in files)\nprint(\"html\" in files)\nfiles[\"cfg\"] = 8\nprint(files)\nfiles[\"csv\"] = 17\nprint(files)\ndel files[\"cfg\"]\nprint(files)\n\nprint(files.keys())\nprint(files.values())",
      "metadata": {
        "trusted": true
      },
      "outputs": [
        {
          "name": "stdout",
          "text": "{'jpg': 10, 'txt': 14, 'csv': 2, 'py': 24}\n14\nTrue\nFalse\n{'jpg': 10, 'txt': 14, 'csv': 2, 'py': 24, 'cfg': 8}\n{'jpg': 10, 'txt': 14, 'csv': 17, 'py': 24, 'cfg': 8}\n{'jpg': 10, 'txt': 14, 'csv': 17, 'py': 24}\ndict_keys(['jpg', 'txt', 'csv', 'py'])\ndict_values([10, 14, 17, 24])\n",
          "output_type": "stream"
        }
      ],
      "execution_count": 109
    },
    {
      "cell_type": "code",
      "source": "files = {\"jpg\": 10, \"txt\": 14, \"csv\": 2, \"py\": 24}\nfor extension in files:\n    print(extension)\n\nfor values in files.values(): \n    print(values)\n\nfor keys in files.keys():\n    print(keys)",
      "metadata": {
        "trusted": true
      },
      "outputs": [
        {
          "name": "stdout",
          "text": "jpg\ntxt\ncsv\npy\n10\n14\n2\n24\njpg\ntxt\ncsv\npy\n",
          "output_type": "stream"
        }
      ],
      "execution_count": 110
    },
    {
      "cell_type": "code",
      "source": "files = {\"jpg\": 10, \"txt\": 14, \"csv\": 2, \"py\": 24}\nfor ext, ammount in files.items():\n    print(\"There are {} files with the .{} extension.\".format(ammount, ext))",
      "metadata": {
        "trusted": true
      },
      "outputs": [
        {
          "name": "stdout",
          "text": "There are 10 files with the .jpg extension.\nThere are 14 files with the .txt extension.\nThere are 2 files with the .csv extension.\nThere are 24 files with the .py extension.\n",
          "output_type": "stream"
        }
      ],
      "execution_count": 107
    },
    {
      "cell_type": "code",
      "source": "def count_letters(text):\n    result = {}\n    for letter in text:\n        if letter not in result:\n            result[letter] = 0\n        result[letter] += 1\n    return result\nprint(count_letters(\"aaaa\"))\nprint(count_letters(\"tenant\"))\nprint(count_letters(\"a long string with a lot of letters\"))",
      "metadata": {
        "trusted": true
      },
      "outputs": [
        {
          "name": "stdout",
          "text": "{'a': 4}\n{'t': 2, 'e': 1, 'n': 2, 'a': 1}\n{'a': 2, ' ': 7, 'l': 3, 'o': 3, 'n': 2, 'g': 2, 's': 2, 't': 5, 'r': 2, 'i': 2, 'w': 1, 'h': 1, 'f': 1, 'e': 2}\n",
          "output_type": "stream"
        }
      ],
      "execution_count": 113
    },
    {
      "cell_type": "code",
      "source": "beasts = {\"Octopuses\": \"tentacles\", \"Dolphins\": \"fins\", \"Rhinos\": \"horns\"}\nfor animal, have in beasts.items():\n    print(\"{} have {}\".format(animal, have))",
      "metadata": {
        "trusted": true
      },
      "outputs": [
        {
          "name": "stdout",
          "text": "Octopuses have tentacles\nDolphins have fins\nRhinos have horns\n",
          "output_type": "stream"
        }
      ],
      "execution_count": 114
    },
    {
      "cell_type": "code",
      "source": "def sum_server_use_time(server):\n    total_use_time = 0.0\n\n    for key, value in server.items():\n        total_use_time += server[key]\n    return round(total_use_time, 2)\nFileServer = {\"EndUser1\": 2.25, \"EndUser2\": 4.5, \"EndUser3\": 1, \"EndUser4\": 3.75, \"EndUser5\": 0.6, \"EndUser6\": 8}\nprint(sum_server_use_time(FileServer))",
      "metadata": {
        "trusted": true
      },
      "outputs": [
        {
          "name": "stdout",
          "text": "20.1\n",
          "output_type": "stream"
        }
      ],
      "execution_count": 117
    },
    {
      "cell_type": "code",
      "source": "def list_full_names(employee):\n    full_names = []\n    for last_name, first_names in employee.items():\n        for first_name in first_names:\n            full_names.append(first_name + \" \" + last_name)\n    return(full_names)\nprint(list_full_names({\"Ali\": [\"Muhammad\", \"Amir\", \"Malik\"], \"Devi\": [\"Ram\", \"Amaira\"], \"Chen\": [\"Feng\", \"Li\"]}))",
      "metadata": {
        "trusted": true
      },
      "outputs": [
        {
          "name": "stdout",
          "text": "['Muhammad Ali', 'Amir Ali', 'Malik Ali', 'Ram Devi', 'Amaira Devi', 'Feng Chen', 'Li Chen']\n",
          "output_type": "stream"
        }
      ],
      "execution_count": 118
    },
    {
      "cell_type": "code",
      "source": "def invert_resource_dict(resource_dictionary):\n    new_dictionary = {}\n    for resource_group, resources in resource_dictionary.items():\n        for resource in resources:\n            if resource in new_dictionary:\n                new_dictionary[resource].append(resource_group)\n            else:\n                new_dictionary[resource] = [resource_group]\n    return(new_dictionary)\n\nprint(invert_resource_dict({\"Hard Drives\": [\"IDE HDDs\", \"SCSI HDDs\"],\n        \"PC Parts\":  [\"IDE HDDs\", \"SCSI HDDs\", \"High-end video cards\", \"Basic video cards\"], \"Video Cards\": [\"High-end video cards\", \"Basic video cards\"]}))",
      "metadata": {
        "trusted": true
      },
      "outputs": [
        {
          "name": "stdout",
          "text": "{'IDE HDDs': ['Hard Drives', 'PC Parts'], 'SCSI HDDs': ['Hard Drives', 'PC Parts'], 'High-end video cards': ['PC Parts', 'Video Cards'], 'Basic video cards': ['PC Parts', 'Video Cards']}\n",
          "output_type": "stream"
        }
      ],
      "execution_count": 124
    },
    {
      "cell_type": "code",
      "source": "a11 = {'a': [5,6,7,8], 'b': [5,6,0,9]}\nb11 = {'a': [0], 'c':[7,8,6]}\na11.update(b11)\nprint(a11)",
      "metadata": {
        "trusted": true
      },
      "outputs": [
        {
          "name": "stdout",
          "text": "{'a': [0], 'b': [5, 6, 0, 9], 'c': [7, 8, 6]}\n",
          "output_type": "stream"
        }
      ],
      "execution_count": 126
    },
    {
      "cell_type": "code",
      "source": "arr = [7,6,8,6,86]\nmax(arr)\nlen(arr)",
      "metadata": {
        "trusted": true
      },
      "outputs": [
        {
          "execution_count": 133,
          "output_type": "execute_result",
          "data": {
            "text/plain": "5"
          },
          "metadata": {}
        }
      ],
      "execution_count": 133
    }
  ]
}