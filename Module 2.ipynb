{
  "metadata": {
    "kernelspec": {
      "name": "python",
      "display_name": "Python (Pyodide)",
      "language": "python"
    },
    "language_info": {
      "codemirror_mode": {
        "name": "python",
        "version": 3
      },
      "file_extension": ".py",
      "mimetype": "text/x-python",
      "name": "python",
      "nbconvert_exporter": "python",
      "pygments_lexer": "ipython3",
      "version": "3.8"
    }
  },
  "nbformat_minor": 4,
  "nbformat": 4,
  "cells": [
    {
      "cell_type": "code",
      "source": "def to_celsius(x):\n    '''convert Fahrenhiet to Celsius'''\n    return (x-32) * 5/9\n\nto_celsius(75)",
      "metadata": {
        "trusted": true
      },
      "outputs": [
        {
          "execution_count": 1,
          "output_type": "execute_result",
          "data": {
            "text/plain": "23.88888888888889"
          },
          "metadata": {}
        }
      ],
      "execution_count": 1
    },
    {
      "cell_type": "code",
      "source": "number = -4\n\nif number > 0:\n    print(\"Number is Positive\")\nelif number == 0:\n    print(\"Number is Zero\")\nelse:\n    print(\"Number is Negative\")",
      "metadata": {
        "trusted": true
      },
      "outputs": [
        {
          "name": "stdout",
          "text": "Number is Negative\n",
          "output_type": "stream"
        }
      ],
      "execution_count": 2
    },
    {
      "cell_type": "code",
      "source": "print(type(\"a\"))\nprint(type(2))\nprint(type(2.5))",
      "metadata": {
        "trusted": true
      },
      "outputs": [
        {
          "name": "stdout",
          "text": "<class 'str'>\n<class 'int'>\n<class 'float'>\n",
          "output_type": "stream"
        }
      ],
      "execution_count": 3
    },
    {
      "cell_type": "code",
      "source": "base = 6\nheight = 3\narea = (base * height)/2\nprint(area)\nprint(int(area))",
      "metadata": {
        "trusted": true
      },
      "outputs": [
        {
          "name": "stdout",
          "text": "9.0\n9\n",
          "output_type": "stream"
        }
      ],
      "execution_count": 4
    },
    {
      "cell_type": "code",
      "source": "import typing\n\nx: str = \"Hola...\"\ny: int = 10\nz: float = 1.23\n\nlist_of_numbers: typing.List[int]= [1 ,2 ,3]\ntuple_of_numbers: typing.Tuple[int, int, int] = (1, 2, 3)\ndictoionary: typing.Dict[str, int] = {\"key1\": 1, \"Key2\": 2}\nset_of_numbers: typing.Set[int] = {1, 2, 3}\n\nprint(x)\nprint(y)\nprint(z)\nprint(list_of_numbers)\nprint(tuple_of_numbers)\nprint(dictoionary)\nprint(set_of_numbers)",
      "metadata": {
        "trusted": true
      },
      "outputs": [
        {
          "name": "stdout",
          "text": "Hola...\n10\n1.23\n[1, 2, 3]\n(1, 2, 3)\n{'key1': 1, 'Key2': 2}\n{1, 2, 3}\n",
          "output_type": "stream"
        }
      ],
      "execution_count": 5
    },
    {
      "cell_type": "code",
      "source": "time_list = [123, 345, 643, 111, 234, 644]\n\nprint(time_list)\nprint(sorted(time_list))\n\nprint(min(time_list))\nprint(max(time_list))",
      "metadata": {
        "trusted": true
      },
      "outputs": [
        {
          "name": "stdout",
          "text": "[123, 345, 643, 111, 234, 644]\n[111, 123, 234, 345, 643, 644]\n111\n644\n",
          "output_type": "stream"
        }
      ],
      "execution_count": 7
    },
    {
      "cell_type": "code",
      "source": "def area_triangle(base, height):\\\n    return base*height/2\n\narea_a= area_triangle(5,4)\narea_b= area_triangle(7,3)\n\nsum = area_a + area_b\nprint(\"The sum of both areas is: \" + str(sum))",
      "metadata": {
        "trusted": true
      },
      "outputs": [
        {
          "name": "stdout",
          "text": "The sum of both areas is: 20.5\n",
          "output_type": "stream"
        }
      ],
      "execution_count": 8
    },
    {
      "cell_type": "code",
      "source": "def conver_seconds(seconds):\n    hours = seconds // 3600\n    minutes = (seconds - hours * 3600) // 60\n    remaining_seconds = seconds - hours * 3600 - minutes * 60\n    return hours, minutes, remaining_seconds\n\nhours, minutes, seconds = conver_seconds(5000)\nprint(hours, minutes, seconds)",
      "metadata": {
        "trusted": true
      },
      "outputs": [
        {
          "name": "stdout",
          "text": "1 23 20\n",
          "output_type": "stream"
        }
      ],
      "execution_count": 9
    },
    {
      "cell_type": "code",
      "source": "def lucky_number(name):\n    number = len(name) * 9\n    print(\"Hola \" + name + \". Your lucky number is: \" + str(number))\n\nlucky_number (\"Roy\")\nlucky_number (\"Cameron\")",
      "metadata": {
        "trusted": true
      },
      "outputs": [
        {
          "name": "stdout",
          "text": "Hola Roy. Your lucky number is: 27\nHola Cameron. Your lucky number is: 63\n",
          "output_type": "stream"
        }
      ],
      "execution_count": 10
    },
    {
      "cell_type": "code",
      "source": "def find_total_days(years, months, days):\n    my_days = (years*365) + (months*30) + days\n    return my_days\n\nprint(find_total_days(2,5,23))",
      "metadata": {
        "trusted": true
      },
      "outputs": [
        {
          "name": "stdout",
          "text": "903\n",
          "output_type": "stream"
        }
      ],
      "execution_count": 11
    },
    {
      "cell_type": "code",
      "source": "# This function converts fluid ounces to milliters and return the result of the conversion.\ndef convert_volume(fluid_ounce):\n    ml = fluid_ounce * 29.5\n    return ml\n\nprint( \"The volume in milliters is: \" + str(convert_volume(2)))\nprint( \"The volume in milliters is: \" + str(convert_volume(2)*2))",
      "metadata": {
        "trusted": true
      },
      "outputs": [
        {
          "name": "stdout",
          "text": "The volume in milliters is: 59.0\nThe volume in milliters is: 118.0\n",
          "output_type": "stream"
        }
      ],
      "execution_count": 12
    },
    {
      "cell_type": "code",
      "source": "print(32 == 30+2)\n\nprint(5+10 == 5+8)\n\nvariable = 3*5\nprint(variable == 15)\n\nprint(11 > 3*3)\n\nprint(4/2 > 8-4)\n\nprint(4/2 < 8-4)",
      "metadata": {
        "trusted": true
      },
      "outputs": [
        {
          "name": "stdout",
          "text": "True\nFalse\nTrue\nTrue\nFalse\nTrue\n",
          "output_type": "stream"
        }
      ],
      "execution_count": 18
    },
    {
      "cell_type": "code",
      "source": "print(\"a string\" == \"a string\")\nprint(\"4 + 5\" == 4+5)\nprint(\"rabbit\" != \"frog\")\nprint(\"shanghai\" != \"shanghai\")\nprint(\"three\" == 3)",
      "metadata": {
        "trusted": true
      },
      "outputs": [
        {
          "name": "stdout",
          "text": "True\nFalse\nTrue\nFalse\nFalse\n",
          "output_type": "stream"
        }
      ],
      "execution_count": 20
    },
    {
      "cell_type": "code",
      "source": "var1 = \"my computer\" >= \"my chair\"\nvar2 = \"Spring\" <= \"Winter\"\nvar3 = \"pineapple\" >= \"pineapple\"\n\nprint(\"Is \\\"my computer\\\" greater than or equal to \\\"my chair\\\"? Result: \", var1)\nprint(\"Is \\\"Spring\\\" less than or equal to \\\"Winter\\\"? Result: \", var2)\nprint(\"Is \\\"pineapple\\\" less than or equal to \\\"pineapple\\\"? Result: \", var3)",
      "metadata": {
        "trusted": true
      },
      "outputs": [
        {
          "name": "stdout",
          "text": "Is \"my computer\" greater than or equal to \"my chair\"? Result:  True\nIs \"Spring\" less than or equal to \"Winter\"? Result:  True\nIs \"pineapple\" less than or equal to \"pineapple\"? Result:  True\n",
          "output_type": "stream"
        }
      ],
      "execution_count": 21
    },
    {
      "cell_type": "code",
      "source": "x = 2*3 > 6\nprint(\"The value of x is:\")\nprint(x)\n\nprint(\"\")  # Prints a blank line\n\nprint(\"The inverse value of x is:\")\nprint(not x)",
      "metadata": {
        "trusted": true
      },
      "outputs": [
        {
          "name": "stdout",
          "text": "The value of x is:\nFalse\n\nThe inverse value of x is:\nTrue\n",
          "output_type": "stream"
        }
      ],
      "execution_count": 22
    },
    {
      "cell_type": "code",
      "source": "today = \"Monday\"\nprint(not today == \"Tuesday\") ",
      "metadata": {
        "trusted": true
      },
      "outputs": [
        {
          "name": "stdout",
          "text": "True\n",
          "output_type": "stream"
        }
      ],
      "execution_count": 23
    },
    {
      "cell_type": "code",
      "source": "def hint_username(username):\n    if len(username) < 3:\n        print(\"Invalid username. Must be at least 3 characters long\")\n    else:\n        print(\"Valid username\")\n#This code will not have an output. \nhint_username(\"Alex\")",
      "metadata": {
        "trusted": true
      },
      "outputs": [
        {
          "name": "stdout",
          "text": "Valid username\n",
          "output_type": "stream"
        }
      ],
      "execution_count": 28
    },
    {
      "cell_type": "code",
      "source": "def round_up(number):\n  x = 10\n  whole_number = number // x\n  remainder = number % x\n  if remainder >= 5: \n    return x*(whole_number+1)\n  return x*whole_number\n \nprint(round_up(35)) ",
      "metadata": {
        "trusted": true
      },
      "outputs": [
        {
          "name": "stdout",
          "text": "40\n",
          "output_type": "stream"
        }
      ],
      "execution_count": 30
    },
    {
      "cell_type": "code",
      "source": "class Apple:\n    def __init__(self):\n        self.color = \"red\"\n        self.flavor = \"sweet\"\n\nhoneycrisp = Apple()\nprint(honeycrisp.color)",
      "metadata": {
        "trusted": true
      },
      "outputs": [
        {
          "name": "stdout",
          "text": "red\n",
          "output_type": "stream"
        }
      ],
      "execution_count": 31
    },
    {
      "cell_type": "code",
      "source": "class Apple:\n    def __init__(self, color, flavor):\n        self.color = color\n        self.flavor = flavor\n\nhoneycrisp = Apple(\"red\", \"sweet\")\nfuji = Apple(\"red\", \"tart\")\nprint(honeycrisp.flavor)\nprint(fuji.flavor)",
      "metadata": {
        "trusted": true
      },
      "outputs": [
        {
          "name": "stdout",
          "text": "sweet\ntart\n",
          "output_type": "stream"
        }
      ],
      "execution_count": 32
    },
    {
      "cell_type": "code",
      "source": "class Apple:\n    def __init__(self, color, flavor):\n        self.color = color\n        self.flavor = flavor\n\n    def __str__(self):\n        return \"an apple which is {} and {}\".format(self.color, self.flavor)\n\nhoneycrisp = Apple(\"red\", \"sweet\")\nprint(honeycrisp)",
      "metadata": {
        "trusted": true
      },
      "outputs": [
        {
          "name": "stdout",
          "text": "an apple which is red and sweet\n",
          "output_type": "stream"
        }
      ],
      "execution_count": 33
    },
    {
      "cell_type": "code",
      "source": "class Triangle:\n    def __init__(self, base, height):\n        self.base = base\n        self.height = height\n\n    def area(self):\n        return 0.5 * self.base * self.height\n\n    def __add__(self, other):\n        return self.area() + other.area()\n\ntriangle1 = Triangle(10, 5)\ntriangle2 = Triangle(6, 8)\n\nprint(\"The area of triangle 1 is\", triangle1.area())\nprint(\"The area of triangle 2 is\", triangle2.area())\nprint(\"The combined area of both triangles is\", triangle1 + triangle2)\n",
      "metadata": {
        "trusted": true
      },
      "outputs": [
        {
          "name": "stdout",
          "text": "The area of triangle 1 is 25.0\nThe area of triangle 2 is 24.0\nThe combined area of both triangles is 49.0\n",
          "output_type": "stream"
        }
      ],
      "execution_count": 37
    },
    {
      "cell_type": "code",
      "source": "def task_reminder(time_as_string):\n    if time_as_string == \"8:00 a.m.\":\n        task = \"Check overnight backup images\"\n    elif time_as_string == \"11:30 a.m.\":\n        task = \"Run TPS report\"\n    elif time_as_string == \"5:30 p.m.\":\n        task = \"Reboot servers\"\n    else:\n        task = \"Provide IT Support to employees\"\n    return task\n\nprint(task_reminder(\"10:00 a.m.\"))\n",
      "metadata": {
        "trusted": true
      },
      "outputs": [
        {
          "name": "stdout",
          "text": "Provide IT Support to employees\n",
          "output_type": "stream"
        }
      ],
      "execution_count": 38
    },
    {
      "cell_type": "code",
      "source": "def get_remainder(x, y):\n \n  if x == 0 or y == 0 or x ==y:\n    remainder = 0\n  else:\n    remainder = (x % y) / y\n  return remainder\n\n\nprint(get_remainder(10, 3))\n",
      "metadata": {
        "trusted": true
      },
      "outputs": [
        {
          "name": "stdout",
          "text": "0.3333333333333333\n",
          "output_type": "stream"
        }
      ],
      "execution_count": 39
    }
  ]
}