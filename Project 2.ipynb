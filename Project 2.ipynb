{
  "metadata": {
    "kernelspec": {
      "name": "python",
      "display_name": "Python (Pyodide)",
      "language": "python"
    },
    "language_info": {
      "codemirror_mode": {
        "name": "python",
        "version": 3
      },
      "file_extension": ".py",
      "mimetype": "text/x-python",
      "name": "python",
      "nbconvert_exporter": "python",
      "pygments_lexer": "ipython3",
      "version": "3.8"
    }
  },
  "nbformat_minor": 4,
  "nbformat": 4,
  "cells": [
    {
      "cell_type": "code",
      "source": "import csv\nimport secrets\nimport subprocess\nfrom pathlib import Path",
      "metadata": {
        "trusted": true
      },
      "outputs": [],
      "execution_count": 1
    },
    {
      "cell_type": "code",
      "source": "cwd = Path.cwd() /\"/home/sajan_sarker/Python\"",
      "metadata": {
        "trusted": true
      },
      "outputs": [],
      "execution_count": 3
    },
    {
      "cell_type": "code",
      "source": "with open(cwd / \"user_in.csv\", \"r\") as file_input, open(cwd / \"use_out.csv\", \"w\") as file_output:\n    reader = csv.DictReader(file_input)\n    writer = csv.DictWriter(file_output, fieldnames= reader.fieldnames)\n    writer.writeheader()\n\n    for user in reader:\n        user[\"password\"] = secrets.token_hex(8)\n        useradd_cmd = [\"/sbin/useradd\",\n                       \"-c\", user[\"real_name\"],\n                       \"-m\",\n                       \"-G\", user[\"password\"],\n                       user[\"username\"]]\n        subprocess.run(useradd_cmd, check=True)\n\n\nwriter.writerow(user)",
      "metadata": {
        "trusted": true
      },
      "outputs": [],
      "execution_count": null
    }
  ]
}