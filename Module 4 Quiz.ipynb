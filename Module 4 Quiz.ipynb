{
  "metadata": {
    "kernelspec": {
      "name": "python",
      "display_name": "Python (Pyodide)",
      "language": "python"
    },
    "language_info": {
      "codemirror_mode": {
        "name": "python",
        "version": 3
      },
      "file_extension": ".py",
      "mimetype": "text/x-python",
      "name": "python",
      "nbconvert_exporter": "python",
      "pygments_lexer": "ipython3",
      "version": "3.8"
    }
  },
  "nbformat_minor": 4,
  "nbformat": 4,
  "cells": [
    {
      "cell_type": "code",
      "source": "string_value = \"This is a String Value\"\nprint(string_value.upper())\nprint(string_value.lower())\nprint(string_value.split())\nprint(string_value.isnumeric())\nprint(string_value.isalpha())\nprint(string_value.replace(\"Value\", \"Line\"))\nprint(string_value[3])\nprint(len(string_value))\n",
      "metadata": {
        "trusted": true
      },
      "outputs": [
        {
          "name": "stdout",
          "text": "THIS IS A STRING VALUE\nthis is a string value\n['This', 'is', 'a', 'String', 'Value']\nFalse\nFalse\nThis is a String Line\ns\n22\n",
          "output_type": "stream"
        }
      ],
      "execution_count": 20
    },
    {
      "cell_type": "code",
      "source": "def sales_prices(item_and_price):\n    item = \"\"\n    price = \"\"\n    item_or_price = item_and_price.split()\n\n    for x in item_or_price:\n        if x.isalpha():\n            item += x +\" \"\n        else:\n            price += x\n    return \"{}are on sale for ${}\".format(item,price)\n\nprint(sales_prices(\"Winter fleece jackets 49.99\"))",
      "metadata": {
        "trusted": true
      },
      "outputs": [
        {
          "name": "stdout",
          "text": "Winter fleece jackets are on sale for $49.99\n",
          "output_type": "stream"
        }
      ],
      "execution_count": 25
    },
    {
      "cell_type": "code",
      "source": "def count_words(data_field):\n    split_data = data_field.split()\n    return len(split_data)\n\nprint(count_words(\"Catalog items 3523: Organic raw pumpkin seeds in shell\"))",
      "metadata": {
        "trusted": true
      },
      "outputs": [
        {
          "name": "stdout",
          "text": "9\n",
          "output_type": "stream"
        }
      ],
      "execution_count": 28
    },
    {
      "cell_type": "code",
      "source": "def record_profit_years(recent_first, recent_last):\n    recent_first.reverse()\n    recent_last.extend(recent_first)\n    return recent_last\n\nrecent_first = [2002, 2018, 2011, 2006]\nrecent_last = [1989, 1992, 1997, 2001]\n\nresult =(record_profit_years(recent_first, recent_last))\nprint(result)\nprint(sorted(result))",
      "metadata": {
        "trusted": true
      },
      "outputs": [
        {
          "name": "stdout",
          "text": "[1989, 1992, 1997, 2001, 2006, 2011, 2018, 2002]\n[1989, 1992, 1997, 2001, 2002, 2006, 2011, 2018]\n",
          "output_type": "stream"
        }
      ],
      "execution_count": 31
    },
    {
      "cell_type": "code",
      "source": "def list_years(start, end):\n    return [year for year in range(start, end+1)]\n\nprint(list_years(1972, 1975))",
      "metadata": {
        "trusted": true
      },
      "outputs": [
        {
          "name": "stdout",
          "text": "[1972, 1973, 1974, 1975]\n",
          "output_type": "stream"
        }
      ],
      "execution_count": 33
    },
    {
      "cell_type": "code",
      "source": "def odd_numbers(x, y):\n    return [n for n in range(x,y) if n%2 != 0]\n\nprint(odd_numbers(5, 15))",
      "metadata": {
        "trusted": true
      },
      "outputs": [
        {
          "name": "stdout",
          "text": "[5, 7, 9, 11, 13]\n",
          "output_type": "stream"
        }
      ],
      "execution_count": 35
    },
    {
      "cell_type": "code",
      "source": "def network(servers):\n    result = \"\"\n    for server, ip in servers.items():\n        result += \"The IP adress of the {} is {}\".format(server,ip)+\"\\n\"\n    return result\nprint(network({\"Domain Name Server\":\"8.8.8.8\", \"Gateway Server\":\"192.168.1.1\", \"Print Server\":\"192.168.1.33\", \"Mail Server\":\"192.168.1.190\"}))",
      "metadata": {
        "trusted": true
      },
      "outputs": [
        {
          "name": "stdout",
          "text": "The IP adress of the Domain Name Server is 8.8.8.8\nThe IP adress of the Gateway Server is 192.168.1.1\nThe IP adress of the Print Server is 192.168.1.33\nThe IP adress of the Mail Server is 192.168.1.190\n\n",
          "output_type": "stream"
        }
      ],
      "execution_count": 42
    },
    {
      "cell_type": "code",
      "source": "def reset_scores(game_score):\n    new_score = game_score.copy()\n    for player, score in new_score.items():\n        new_score[player] = 0\n    return new_score\n    \ngame_scores = {\"Arshi\": 3, \"Catalina\": 7, \"Diego\": 6}\n\nprint(game_scores)\nprint(reset_scores(game_scores))\n",
      "metadata": {
        "trusted": true
      },
      "outputs": [
        {
          "name": "stdout",
          "text": "{'Arshi': 3, 'Catalina': 7, 'Diego': 6}\n{'Arshi': 0, 'Catalina': 0, 'Diego': 0}\n",
          "output_type": "stream"
        }
      ],
      "execution_count": 44
    }
  ]
}