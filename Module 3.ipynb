{
  "metadata": {
    "kernelspec": {
      "name": "python",
      "display_name": "Python (Pyodide)",
      "language": "python"
    },
    "language_info": {
      "codemirror_mode": {
        "name": "python",
        "version": 3
      },
      "file_extension": ".py",
      "mimetype": "text/x-python",
      "name": "python",
      "nbconvert_exporter": "python",
      "pygments_lexer": "ipython3",
      "version": "3.8"
    }
  },
  "nbformat_minor": 4,
  "nbformat": 4,
  "cells": [
    {
      "cell_type": "code",
      "source": "x = 0\nwhile x <= 5:\n    x = x + 1\n    if(x == 5):\n        print(\"x is: \" + str(x))\n        break\n    else: \n        print(\"Not there yet, x = \" + str(x))",
      "metadata": {
        "trusted": true
      },
      "outputs": [
        {
          "name": "stdout",
          "text": "Not there yet, x = 1\nNot there yet, x = 2\nNot there yet, x = 3\nNot there yet, x = 4\nx is: 5\n",
          "output_type": "stream"
        }
      ],
      "execution_count": 1
    },
    {
      "cell_type": "code",
      "source": "x = 0\nwhile x < 5:\n    print(\"Not there yet, x= \" + str(x))\n    x += 1\nprint(\"x= \" + str(x))",
      "metadata": {
        "trusted": true
      },
      "outputs": [
        {
          "name": "stdout",
          "text": "Not there yet, x= 0\nNot there yet, x= 1\nNot there yet, x= 2\nNot there yet, x= 3\nNot there yet, x= 4\nx= 5\n",
          "output_type": "stream"
        }
      ],
      "execution_count": 2
    },
    {
      "cell_type": "code",
      "source": "def attempts(n):\n    x = 1\n    while x <= n:\n        print(\"Attempt \" + str(x))\n        x += 1\n    print(\"Done\")\nattempts(5)",
      "metadata": {
        "trusted": true
      },
      "outputs": [
        {
          "name": "stdout",
          "text": "Attempt 1\nAttempt 2\nAttempt 3\nAttempt 4\nAttempt 5\nDone\n",
          "output_type": "stream"
        }
      ],
      "execution_count": 3
    },
    {
      "cell_type": "code",
      "source": "x = 1\nsum = 0\n\nwhile x < 10:\n    sum = sum + x\n    x = x + 1\n\nproduct = 1\nwhile x < 10:\n    product *= x\n    x += 1\n\nprint(sum, product)",
      "metadata": {
        "trusted": true
      },
      "outputs": [
        {
          "name": "stdout",
          "text": "45 1\n",
          "output_type": "stream"
        }
      ],
      "execution_count": 4
    },
    {
      "cell_type": "code",
      "source": "multiplier = 1\nresult = multiplier * 5\nwhile result <= 50:\n    if result > 50:\n        break\n    print(result)\n    multiplier += 1\n    result = multiplier * 5\nprint(\"Done\")",
      "metadata": {
        "trusted": true
      },
      "outputs": [
        {
          "name": "stdout",
          "text": "5\n10\n15\n20\n25\n30\n35\n40\n45\n50\nDone\n",
          "output_type": "stream"
        }
      ],
      "execution_count": 5
    },
    {
      "cell_type": "code",
      "source": "def count_factors(given_number):\n\n    factor = 1\n    count = 1\n\n    if given_number == 0:\n        return 0\n\n    while factor < given_number:\n        if given_number % factor == 0:\n            count += 1\n        factor += 1\n\n    return count\n\n\nprint(count_factors(0))\nprint(count_factors(3)) \nprint(count_factors(10))\nprint(count_factors(24)) ",
      "metadata": {
        "trusted": true
      },
      "outputs": [
        {
          "name": "stdout",
          "text": "0\n2\n4\n8\n",
          "output_type": "stream"
        }
      ],
      "execution_count": 6
    },
    {
      "cell_type": "code",
      "source": "def addition_table(given_number):\n    iterated_number = 1\n    my_sum = 1\n\n    while iterated_number <= 5:\n        my_sum = given_number + iterated_number\n        if my_sum > 20:\n            break\n        print(str(given_number), \"+\", str(iterated_number), \"=\", str(my_sum))\n        iterated_number += 1\n\naddition_table(5)\naddition_table(17)\naddition_table(30)",
      "metadata": {
        "trusted": true
      },
      "outputs": [
        {
          "name": "stdout",
          "text": "5 + 1 = 6\n5 + 2 = 7\n5 + 3 = 8\n5 + 4 = 9\n5 + 5 = 10\n17 + 1 = 18\n17 + 2 = 19\n17 + 3 = 20\n",
          "output_type": "stream"
        }
      ],
      "execution_count": 11
    },
    {
      "cell_type": "code",
      "source": "for x in range(5):\n    print(x)",
      "metadata": {
        "trusted": true
      },
      "outputs": [
        {
          "name": "stdout",
          "text": "0\n1\n2\n3\n4\n",
          "output_type": "stream"
        }
      ],
      "execution_count": 12
    },
    {
      "cell_type": "code",
      "source": "friends = ['Taylor', 'Alex', 'Pat', 'Eli']\nfor friend in friends:\n    print(\"Hi \" + friend)",
      "metadata": {
        "trusted": true
      },
      "outputs": [
        {
          "name": "stdout",
          "text": "Hi Taylor\nHi Alex\nHi Pat\nHi Eli\n",
          "output_type": "stream"
        }
      ],
      "execution_count": 13
    },
    {
      "cell_type": "code",
      "source": "values = [ 23, 52, 59, 37, 48 ]\nsum = 0\nlength = 0\nfor value in values:\n    sum += value\n    length += 1\n\nprint(\"Total sum: \" + str(sum) + \" - Average: \" + str(sum/length))",
      "metadata": {
        "trusted": true
      },
      "outputs": [
        {
          "name": "stdout",
          "text": "Total sum: 219 - Average: 43.8\n",
          "output_type": "stream"
        }
      ],
      "execution_count": 14
    },
    {
      "cell_type": "code",
      "source": "product = 1\nfor n in range(1,10):\n  product = product * n\n\nprint(product)\nprint(1*2*3*4*5*6*7*8*9)",
      "metadata": {
        "trusted": true
      },
      "outputs": [
        {
          "name": "stdout",
          "text": "362880\n362880\n",
          "output_type": "stream"
        }
      ],
      "execution_count": 15
    },
    {
      "cell_type": "code",
      "source": "def to_celsius(x):\n    return (x-32)*5/9\n\nfor x in range(0,101,10):\n    print(x, to_celsius(x))",
      "metadata": {
        "trusted": true
      },
      "outputs": [
        {
          "name": "stdout",
          "text": "0 -17.77777777777778\n10 -12.222222222222221\n20 -6.666666666666667\n30 -1.1111111111111112\n40 4.444444444444445\n50 10.0\n60 15.555555555555555\n70 21.11111111111111\n80 26.666666666666668\n90 32.22222222222222\n100 37.77777777777778\n",
          "output_type": "stream"
        }
      ],
      "execution_count": 16
    },
    {
      "cell_type": "code",
      "source": "for left in range(7):\n  for right in range(left, 7):\n    print(\"[\" + str(left) + \"|\" + str(right) + \"]\", end=\" \")\n  print()",
      "metadata": {
        "trusted": true
      },
      "outputs": [
        {
          "name": "stdout",
          "text": "[0|0] [0|1] [0|2] [0|3] [0|4] [0|5] [0|6] \n[1|1] [1|2] [1|3] [1|4] [1|5] [1|6] \n[2|2] [2|3] [2|4] [2|5] [2|6] \n[3|3] [3|4] [3|5] [3|6] \n[4|4] [4|5] [4|6] \n[5|5] [5|6] \n[6|6] \n",
          "output_type": "stream"
        }
      ],
      "execution_count": 17
    },
    {
      "cell_type": "code",
      "source": "teams = [ 'Dragons', 'Wolves', 'Pandas', 'Unicorns']\nfor home_team in teams:\n  for away_team in teams:\n    if home_team != away_team:\n      print(home_team + \" vs \" + away_team)",
      "metadata": {
        "trusted": true
      },
      "outputs": [
        {
          "name": "stdout",
          "text": "Dragons vs Wolves\nDragons vs Pandas\nDragons vs Unicorns\nWolves vs Dragons\nWolves vs Pandas\nWolves vs Unicorns\nPandas vs Dragons\nPandas vs Wolves\nPandas vs Unicorns\nUnicorns vs Dragons\nUnicorns vs Wolves\nUnicorns vs Pandas\n",
          "output_type": "stream"
        }
      ],
      "execution_count": 18
    },
    {
      "cell_type": "code",
      "source": "greeting = \"Holaa..\"\n\nfor c in greeting:\n    print(\"The next character is: \", c)",
      "metadata": {
        "trusted": true
      },
      "outputs": [
        {
          "name": "stdout",
          "text": "The next character is:  H\nThe next character is:  o\nThe next character is:  l\nThe next character is:  a\nThe next character is:  a\nThe next character is:  .\nThe next character is:  .\n",
          "output_type": "stream"
        }
      ],
      "execution_count": 19
    },
    {
      "cell_type": "code",
      "source": "gretting = \"holaa..\"\nposition = 1\n\nfor char in getting:\n    print(\"Position\", position, \"Character is:\", char)\n    position +=1 ",
      "metadata": {
        "trusted": true
      },
      "outputs": [
        {
          "name": "stdout",
          "text": "Position 1 Character is: h\nPosition 2 Character is: o\nPosition 3 Character is: l\nPosition 4 Character is: a\nPosition 5 Character is: a\nPosition 6 Character is: .\nPosition 7 Character is: .\n",
          "output_type": "stream"
        }
      ],
      "execution_count": 23
    },
    {
      "cell_type": "code",
      "source": "greeting = \"Holaa..\"\nindex = 0\nwhile index < len(greeting):\n    print(greeting[index])\n    index +=1",
      "metadata": {
        "trusted": true
      },
      "outputs": [
        {
          "name": "stdout",
          "text": "H\no\nl\na\na\n.\n.\n",
          "output_type": "stream"
        }
      ],
      "execution_count": 24
    },
    {
      "cell_type": "code",
      "source": "numbers = [1, 2, 3, 4, 5]\nsquared_numbers = [x ** 2 for x in numbers]\nprint(squared_numbers)",
      "metadata": {
        "trusted": true
      },
      "outputs": [
        {
          "name": "stdout",
          "text": "[1, 4, 9, 16, 25]\n",
          "output_type": "stream"
        }
      ],
      "execution_count": 26
    },
    {
      "cell_type": "code",
      "source": "string = \"Greetings, Earthlings\"\nprint(string[0])\nprint(string[4:8])\nprint(string[11:])\nprint(string[:5])\nprint(string[-10:])\nprint(string[25:])\nprint(string[0::2])\nprint(string[::-1])",
      "metadata": {
        "trusted": true
      },
      "outputs": [
        {
          "name": "stdout",
          "text": "G\nting\nEarthlings\nGreet\nEarthlings\n\nGetns atlns\nsgnilhtraE ,sgniteerG\n",
          "output_type": "stream"
        }
      ],
      "execution_count": 30
    },
    {
      "cell_type": "code",
      "source": "greeting = [\"Holaa\", \"Alex\"]\nprint(\"After Joining: \" + \" \".join(greeting))",
      "metadata": {
        "trusted": true
      },
      "outputs": [
        {
          "name": "stdout",
          "text": "After Joining: Holaa Alex\n",
          "output_type": "stream"
        }
      ],
      "execution_count": 36
    },
    {
      "cell_type": "code",
      "source": "# country code 3   operator 2  line 8\ndef format_phone(number):\n    country_code = \"(\" + number[:3] + \")\"\n    operator = number[3:5]\n    line = number[-8:]\n    return country_code + \" \" + operator + \" \" + line\n\nprint(format_phone(\"8801812345678\"))",
      "metadata": {
        "trusted": true
      },
      "outputs": [
        {
          "name": "stdout",
          "text": "(880) 18 12345678\n",
          "output_type": "stream"
        }
      ],
      "execution_count": 42
    },
    {
      "cell_type": "code",
      "source": "for x in range(2):\n    print(\"This is the outer loop iteration number \" + str(x))\n    for y in range(4):\n        print(\"Inner loop iteration number \" + str(y))\n    print(\"Exit inner loop\")",
      "metadata": {
        "trusted": true
      },
      "outputs": [
        {
          "name": "stdout",
          "text": "This is the outer loop iteration number 0\nInner loop iteration number 0\nInner loop iteration number 1\nInner loop iteration number 2\nInner loop iteration number 3\nExit inner loop\nThis is the outer loop iteration number 1\nInner loop iteration number 0\nInner loop iteration number 1\nInner loop iteration number 2\nInner loop iteration number 3\nExit inner loop\n",
          "output_type": "stream"
        }
      ],
      "execution_count": 43
    },
    {
      "cell_type": "code",
      "source": "even_number = []\nfor x in range(11):\n    if x % 2 == 0:\n        print(x)\n        even_number.append(x)\nprint(even_number)",
      "metadata": {
        "trusted": true
      },
      "outputs": [
        {
          "name": "stdout",
          "text": "0\n2\n4\n6\n8\n10\n[0, 2, 4, 6, 8, 10]\n",
          "output_type": "stream"
        }
      ],
      "execution_count": 44
    },
    {
      "cell_type": "code",
      "source": "list = []\nfor x in range(10):\n    if x%2 == 0:\n        list.append(x)\n\nprint(list)",
      "metadata": {
        "trusted": true
      },
      "outputs": [
        {
          "name": "stdout",
          "text": "[0, 2, 4, 6, 8]\n",
          "output_type": "stream"
        }
      ],
      "execution_count": 4
    },
    {
      "cell_type": "code",
      "source": "#Recursion\ndef factorial(n):\n    print(\"Factorial Called with \" + str(n))\n    if n < 2:\n        print(\"Returning 1\")\n        return 1\n    result = n * factorial(n - 1)\n    print(\"Returning \" + str(result) + \" for factorial of \" + str(n))\n    return result \nfactorial(4)",
      "metadata": {
        "trusted": true
      },
      "outputs": [
        {
          "name": "stdout",
          "text": "Factorial Called with 4\nFactorial Called with 3\nFactorial Called with 2\nFactorial Called with 1\nReturning 1\nReturning 2 for factorial of 2\nReturning 6 for factorial of 3\nReturning 24 for factorial of 4\n",
          "output_type": "stream"
        },
        {
          "execution_count": 6,
          "output_type": "execute_result",
          "data": {
            "text/plain": "24"
          },
          "metadata": {}
        }
      ],
      "execution_count": 6
    },
    {
      "cell_type": "code",
      "source": "def is_power_of(number, base):\n # Base case: when number is smaller than base.\n    if number < base:\n        # If number is equal to 1, it's a power (base**0).\n        return number == 1\n\n\n    # Recursive case: keep dividing number by base.\n    return is_power_of(number//base, base)\n\n\nprint(is_power_of(8,2))     # Should be True\nprint(is_power_of(64,4))    # Should be True\nprint(is_power_of(70,10))   # Should be False",
      "metadata": {
        "trusted": true
      },
      "outputs": [
        {
          "name": "stdout",
          "text": "True\nTrue\nFalse\n",
          "output_type": "stream"
        }
      ],
      "execution_count": 2
    },
    {
      "cell_type": "code",
      "source": "def sum_positive_numbers(n):\n    if n < 1:\n        return 0\n    return n+sum_positive_numbers(n-1)\n\n\nprint(sum_positive_numbers(3)) # Should be 6\nprint(sum_positive_numbers(5)) # Should be 15",
      "metadata": {
        "trusted": true
      },
      "outputs": [
        {
          "name": "stdout",
          "text": "6\n15\n",
          "output_type": "stream"
        }
      ],
      "execution_count": 6
    },
    {
      "cell_type": "code",
      "source": "def count_users(group):\n  count = 0\n  for member in get_members(group):\n    count += 1\n    if is_group(member):\n      count += count_users(member) -1\n  return count\n\n\nprint(count_users(\"sales\")) # Should be 3\nprint(count_users(\"engineering\")) # Should be 8\nprint(count_users(\"everyone\")) # Should be 18",
      "metadata": {
        "trusted": true
      },
      "outputs": [],
      "execution_count": null
    },
    {
      "cell_type": "code",
      "source": "number = 15\nwhile 5<= number:\n    print(number, end=\" \")\n    number -=5\n    ",
      "metadata": {
        "trusted": true
      },
      "outputs": [
        {
          "name": "stdout",
          "text": "15 10 5 ",
          "output_type": "stream"
        }
      ],
      "execution_count": 8
    },
    {
      "cell_type": "code",
      "source": "for number in range(5, -1, -1):\n    print(number)",
      "metadata": {
        "trusted": true
      },
      "outputs": [
        {
          "name": "stdout",
          "text": "5\n4\n3\n2\n1\n0\n",
          "output_type": "stream"
        }
      ],
      "execution_count": 10
    },
    {
      "cell_type": "code",
      "source": "def even_numbers(n):\n    count = 0\n    current_number = 0\n\n\n    while count < n / 2:\n        if current_number % 2 == 0:\n            \n            count += 1\n        current_number += 1\n\n    return result\n\nprint(even_numbers(25))\nprint(even_numbers(144))\nprint(even_numbers(1000))\nprint(even_numbers(0))\n",
      "metadata": {
        "trusted": true
      },
      "outputs": [
        {
          "ename": "<class 'NameError'>",
          "evalue": "name 'result' is not defined",
          "traceback": [
            "\u001b[0;31m---------------------------------------------------------------------------\u001b[0m",
            "\u001b[0;31mNameError\u001b[0m                                 Traceback (most recent call last)",
            "Cell \u001b[0;32mIn[8], line 14\u001b[0m\n\u001b[1;32m     10\u001b[0m         current_number \u001b[38;5;241m+\u001b[39m\u001b[38;5;241m=\u001b[39m \u001b[38;5;241m1\u001b[39m\n\u001b[1;32m     12\u001b[0m     \u001b[38;5;28;01mreturn\u001b[39;00m result\n\u001b[0;32m---> 14\u001b[0m \u001b[38;5;28mprint\u001b[39m(\u001b[43meven_numbers\u001b[49m\u001b[43m(\u001b[49m\u001b[38;5;241;43m25\u001b[39;49m\u001b[43m)\u001b[49m)\n\u001b[1;32m     15\u001b[0m \u001b[38;5;28mprint\u001b[39m(even_numbers(\u001b[38;5;241m144\u001b[39m))\n\u001b[1;32m     16\u001b[0m \u001b[38;5;28mprint\u001b[39m(even_numbers(\u001b[38;5;241m1000\u001b[39m))\n",
            "Cell \u001b[0;32mIn[8], line 12\u001b[0m, in \u001b[0;36meven_numbers\u001b[0;34m(n)\u001b[0m\n\u001b[1;32m      9\u001b[0m         count \u001b[38;5;241m+\u001b[39m\u001b[38;5;241m=\u001b[39m \u001b[38;5;241m1\u001b[39m\n\u001b[1;32m     10\u001b[0m     current_number \u001b[38;5;241m+\u001b[39m\u001b[38;5;241m=\u001b[39m \u001b[38;5;241m1\u001b[39m\n\u001b[0;32m---> 12\u001b[0m \u001b[38;5;28;01mreturn\u001b[39;00m \u001b[43mresult\u001b[49m\n",
            "\u001b[0;31mNameError\u001b[0m: name 'result' is not defined"
          ],
          "output_type": "error"
        }
      ],
      "execution_count": 8
    },
    {
      "cell_type": "code",
      "source": "def count_by_10(end):\n    count = \"\"\n    for number in range (0, end+1, 10):\n        count += str(number) +\" \"\n    return count.strip()\n\nprint(count_by_10(100))",
      "metadata": {
        "trusted": true
      },
      "outputs": [
        {
          "name": "stdout",
          "text": "0 10 20 30 40 50 60 70 80 90 100\n",
          "output_type": "stream"
        }
      ],
      "execution_count": 9
    },
    {
      "cell_type": "code",
      "source": "def matrix(initial_number, end_of_first_row):\n    for column in range (initial_number, end_of_first_row + 1):\n        for row in range (initial_number, end_of_first_row + 1):\n            print(column * row, end = \" \")\n        print()\n\nmatrix(1, 4)",
      "metadata": {
        "trusted": true
      },
      "outputs": [
        {
          "name": "stdout",
          "text": "1 2 3 4 \n2 4 6 8 \n3 6 9 12 \n4 8 12 16 \n",
          "output_type": "stream"
        }
      ],
      "execution_count": 12
    },
    {
      "cell_type": "code",
      "source": "for outer_loop in range(0, 4):\n    for inner_loop in range(0, 4):\n        print(\"Inner loop\", inner_loop, end = \" \")\n    print(\"Outer Loop\", outer_loop)",
      "metadata": {
        "trusted": true
      },
      "outputs": [
        {
          "name": "stdout",
          "text": "Inner loop 0 Inner loop 1 Inner loop 2 Inner loop 3 Outer Loop 0\nInner loop 0 Inner loop 1 Inner loop 2 Inner loop 3 Outer Loop 1\nInner loop 0 Inner loop 1 Inner loop 2 Inner loop 3 Outer Loop 2\nInner loop 0 Inner loop 1 Inner loop 2 Inner loop 3 Outer Loop 3\n",
          "output_type": "stream"
        }
      ],
      "execution_count": 28
    },
    {
      "cell_type": "code",
      "source": "for n in range(11, 0, -1):\n    if n%2  != 0:\n        print(n, end = \" \")",
      "metadata": {
        "trusted": true
      },
      "outputs": [
        {
          "name": "stdout",
          "text": "11 9 7 5 3 1 ",
          "output_type": "stream"
        }
      ],
      "execution_count": 33
    },
    {
      "cell_type": "code",
      "source": "starting_number = 18\nwhile starting_number >= 0:\n    print( starting_number , end= \" \")\n    starting_number -=3",
      "metadata": {
        "trusted": true
      },
      "outputs": [
        {
          "name": "stdout",
          "text": "18 15 12 9 6 3 0 ",
          "output_type": "stream"
        }
      ],
      "execution_count": 34
    },
    {
      "cell_type": "code",
      "source": "def X_figure(salary):\n    tally = 0\n    if salary == 0:\n        tally += 1\n    while salary >= 1:\n        salary = salary/10\n        tally += 1\n    return tally\n\nprint(\"The CEO has a \" + str(X_figure(2300000)) + \"-figure salary.\")",
      "metadata": {
        "trusted": true
      },
      "outputs": [
        {
          "name": "stdout",
          "text": "The CEO has a 7-figure salary.\n",
          "output_type": "stream"
        }
      ],
      "execution_count": 35
    },
    {
      "cell_type": "code",
      "source": "def fig(salary):\n    if(salary == 0):\n        return  1\n    if(salary > 1):\n        return len(str(salary))\n\nprint(\"The CEO has a \" + str(fig(2300000)) + \"-figure salary.\")",
      "metadata": {
        "trusted": true
      },
      "outputs": [
        {
          "name": "stdout",
          "text": "The CEO has a 7-figure salary.\n",
          "output_type": "stream"
        }
      ],
      "execution_count": 38
    },
    {
      "cell_type": "code",
      "source": "def elevator_floor(enter, exit):\n    floor = enter\n    elevator_direction = \"\"\n    if enter > exit:\n        elevator_direction = \"Going Down: \"\n\n        while floor >= exit:\n            elevator_direction += str(floor)\n            if floor > exit:\n                elevator_direction += \"  |  \"\n            floor -= 1\n    else:\n        elevator_direction = \"Going Up  : \"\n        while floor <= exit:\n            elevator_direction += str(floor)\n            if floor < exit:\n                elevator_direction += \"  |  \"\n            floor += 1\n    return elevator_direction\n\nprint(elevator_floor(1, 9))\nprint(elevator_floor(5, 2))",
      "metadata": {
        "trusted": true
      },
      "outputs": [
        {
          "name": "stdout",
          "text": "Going Up  : 1  |  2  |  3  |  4  |  5  |  6  |  7  |  8  |  9\nGoing Down: 5  |  4  |  3  |  2\n",
          "output_type": "stream"
        }
      ],
      "execution_count": 44
    },
    {
      "cell_type": "code",
      "source": "",
      "metadata": {
        "trusted": true
      },
      "outputs": [],
      "execution_count": null
    }
  ]
}