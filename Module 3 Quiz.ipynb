{
  "metadata": {
    "kernelspec": {
      "name": "python",
      "display_name": "Python (Pyodide)",
      "language": "python"
    },
    "language_info": {
      "codemirror_mode": {
        "name": "python",
        "version": 3
      },
      "file_extension": ".py",
      "mimetype": "text/x-python",
      "name": "python",
      "nbconvert_exporter": "python",
      "pygments_lexer": "ipython3",
      "version": "3.8"
    }
  },
  "nbformat_minor": 4,
  "nbformat": 4,
  "cells": [
    {
      "cell_type": "code",
      "source": "def is_power_of_two(number):\n  # This while loop checks if the \"number\" can be divided by two\n  # without leaving a remainder. How can you change the while loop to\n  # avoid a Python ZeroDivisionError?\n  while (not number ==0) and  (number % 2 == 0):\n    number = number / 2\n  # If after dividing by 2 \"number\" equals 1, then \"number\" is a power\n  # of 2.\n  if number == 1:\n    return True\n    \n  return False\n  \n# Calls to the function\nprint(is_power_of_two(0)) # Should be False\nprint(is_power_of_two(1)) # Should be True\nprint(is_power_of_two(8)) # Should be True\nprint(is_power_of_two(9)) # Should be False",
      "metadata": {
        "trusted": true
      },
      "outputs": [
        {
          "name": "stdout",
          "text": "False\nTrue\nTrue\nFalse\n",
          "output_type": "stream"
        }
      ],
      "execution_count": 1
    },
    {
      "cell_type": "code",
      "source": "def sum_of_integers(n):\n  if n < 1:\n    return 0\n\n\n  i = 1\n  sum = 0\n  while i <= n:\n    sum = sum + i\n    i = i + 1\n\n\n  return sum\n\n\nprint(sum_of_integers(3))  # should print 6\nprint(sum_of_integers(4))  # should print 10\nprint(sum_of_integers(5))  # should print 15",
      "metadata": {
        "trusted": true
      },
      "outputs": [
        {
          "name": "stdout",
          "text": "6\n10\n15\n",
          "output_type": "stream"
        }
      ],
      "execution_count": 2
    },
    {
      "cell_type": "code",
      "source": "def multiplication_table(number):\n    # Initialize the appropriate variable\n    multiplier = 1\n\n\n    # Complete the while loop condition.\n    while multiplier <= 5:\n        result = number * multiplier \n        if  result > 25:\n            # Enter the action to take if the result > 25\n            break\n        print(str(number) + \"x\" + str(multiplier) + \"=\" + str(result))\n        \n        # Increment the appropriate variable\n        multiplier += 1\n\n\n\n\nmultiplication_table(3) \n# Should print: \n# 3x1=3 \n# 3x2=6 \n# 3x3=9 \n# 3x4=12 \n# 3x5=15\n\n\nmultiplication_table(5) \n# Should print: \n# 5x1=5\n# 5x2=10\n# 5x3=15\n# 5x4=20\n# 5x5=25\n\n\nmultiplication_table(8) \n# Should print:\n# 8x1=8\n# 8x2=16\n# 8x3=24",
      "metadata": {
        "trusted": true
      },
      "outputs": [
        {
          "name": "stdout",
          "text": "3x1=3\n3x2=6\n3x3=9\n3x4=12\n3x5=15\n5x1=5\n5x2=10\n5x3=15\n5x4=20\n5x5=25\n8x1=8\n8x2=16\n8x3=24\n",
          "output_type": "stream"
        }
      ],
      "execution_count": 3
    },
    {
      "cell_type": "code",
      "source": "def is_power_of(number, base):\n # Base case: when number is smaller than base.\n    if number < base:\n        # If number is equal to 1, it's a power (base**0).\n        return number == 1\n\n\n    # Recursive case: keep dividing number by base.\n    return is_power_of(number//base, base)\n\n\nprint(is_power_of(8,2))     # Should be True\nprint(is_power_of(64,4))    # Should be True\nprint(is_power_of(70,10))   # Should be False",
      "metadata": {
        "trusted": true
      },
      "outputs": [
        {
          "name": "stdout",
          "text": "True\nTrue\nFalse\n",
          "output_type": "stream"
        }
      ],
      "execution_count": 4
    },
    {
      "cell_type": "code",
      "source": "def count_users(group):\n  count = 0\n  for member in get_members(group):\n    count += 1\n    if is_group(member):\n      count += count_users(member) -1\n  return count\n",
      "metadata": {
        "trusted": true
      },
      "outputs": [],
      "execution_count": 8
    },
    {
      "cell_type": "code",
      "source": "def sum_positive_numbers(n):\n    if n < 1:\n        return 0\n    return n+sum_positive_numbers(n-1)\n\n\nprint(sum_positive_numbers(3)) # Should be 6\nprint(sum_positive_numbers(5)) # Should be 15",
      "metadata": {
        "trusted": true
      },
      "outputs": [
        {
          "name": "stdout",
          "text": "6\n15\n",
          "output_type": "stream"
        }
      ],
      "execution_count": 9
    }
  ]
}