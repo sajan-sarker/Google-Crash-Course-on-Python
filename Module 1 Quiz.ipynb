{
  "metadata": {
    "kernelspec": {
      "name": "python",
      "display_name": "Python (Pyodide)",
      "language": "python"
    },
    "language_info": {
      "codemirror_mode": {
        "name": "python",
        "version": 3
      },
      "file_extension": ".py",
      "mimetype": "text/x-python",
      "name": "python",
      "nbconvert_exporter": "python",
      "pygments_lexer": "ipython3",
      "version": "3.8"
    }
  },
  "nbformat_minor": 4,
  "nbformat": 4,
  "cells": [
    {
      "cell_type": "code",
      "source": "print(3*8/2+5-1)\n# Exponents\nprint(4**6) # Syntax means 4 to the power of 6\nprint(4**2) # To square a number\nprint(4**3) # To cube a number\nprint(4**0.5) # To find the square root of a number\n\nx = 4\ny = 26\nprint(y**x)",
      "metadata": {
        "trusted": true
      },
      "outputs": [
        {
          "name": "stdout",
          "text": "16.0\n4096\n16\n64\n2.0\n456976\n",
          "output_type": "stream"
        }
      ],
      "execution_count": 1
    },
    {
      "cell_type": "code",
      "source": "# Assignment of values to the variables:\nyears = 10\nweeks_in_a_year = 52\n# This variable is assigned an arithmetic calculation:\nweeks_in_a_decade = years * weeks_in_a_year\n# Prints the calculation stored in the \"weeks_in_a_decade\" variable:\nprint(weeks_in_a_decade)",
      "metadata": {
        "trusted": true
      },
      "outputs": [
        {
          "name": "stdout",
          "text": "520\n",
          "output_type": "stream"
        }
      ],
      "execution_count": 2
    }
  ]
}