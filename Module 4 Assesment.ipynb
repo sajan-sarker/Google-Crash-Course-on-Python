{
  "metadata": {
    "kernelspec": {
      "name": "python",
      "display_name": "Python (Pyodide)",
      "language": "python"
    },
    "language_info": {
      "codemirror_mode": {
        "name": "python",
        "version": 3
      },
      "file_extension": ".py",
      "mimetype": "text/x-python",
      "name": "python",
      "nbconvert_exporter": "python",
      "pygments_lexer": "ipython3",
      "version": "3.8"
    }
  },
  "nbformat_minor": 4,
  "nbformat": 4,
  "cells": [
    {
      "cell_type": "code",
      "source": "def first_character(string):\n    # Complete the return statement using a string operation.\n    return string[0] \n\n\nprint(first_character(\"Hello, World\")) # Should print H\nprint(first_character(\"Python is awesome\")) # Should print P\nprint(first_character(\"Keep going\")) # Should print K",
      "metadata": {
        "trusted": true
      },
      "outputs": [
        {
          "name": "stdout",
          "text": "H\nP\nK\n",
          "output_type": "stream"
        }
      ],
      "execution_count": 1
    },
    {
      "cell_type": "code",
      "source": "def string_words(string):\n    # Complete the return statement using both a string operation and \n    # a string method in a single line.\n    return len(string.split())\n\n\nprint(string_words(\"Hello, World\")) # Should print 2\nprint(string_words(\"Python is awesome\")) # Should print 3\nprint(string_words(\"Keep going\")) # Should print 2\nprint(string_words(\"Have a nice day\")) # Should print 4",
      "metadata": {
        "trusted": true
      },
      "outputs": [
        {
          "name": "stdout",
          "text": "2\n3\n2\n4\n",
          "output_type": "stream"
        }
      ],
      "execution_count": 2
    },
    {
      "cell_type": "code",
      "source": "def alphabetize_lists(list1, list2):\n\n\n  new_list = \"\" # Initialize a new list.\n  list1.reverse() # Combine the lists.\n  list2.extend(list1) # Sort the combined lists.\n  new_list = sorted(list2.copy()) # Assign the combined lists to the \"new_list\".\n  return new_list \n\n\nAniyahs_list = [\"Jacomo\", \"Emma\", \"Uli\", \"Nia\", \"Imani\"]\nImanis_list = [\"Loik\", \"Gabriel\", \"Ahmed\", \"Soraya\"]\n\n\nprint(alphabetize_lists(Aniyahs_list, Imanis_list))\n# Should print: ['Ahmed', 'Emma', 'Gabriel', 'Imani', 'Jacomo', 'Loik', 'Nia', 'Soraya', 'Uli']\n",
      "metadata": {
        "trusted": true
      },
      "outputs": [
        {
          "name": "stdout",
          "text": "['Ahmed', 'Emma', 'Gabriel', 'Imani', 'Jacomo', 'Loik', 'Nia', 'Soraya', 'Uli']\n",
          "output_type": "stream"
        }
      ],
      "execution_count": 3
    },
    {
      "cell_type": "code",
      "source": "def increments(start, end):\n    return [ x+2 for x in range(start, end+1) ] # Create the required list comprehension.\n\n\nprint(increments(2, 3)) # Should print [4, 5]\nprint(increments(1, 5)) # Should print [3, 4, 5, 6, 7]\nprint(increments(0, 10)) # Should print [2, 3, 4, 5, 6, 7, 8, 9, 10, 11, 12]",
      "metadata": {
        "trusted": true
      },
      "outputs": [
        {
          "name": "stdout",
          "text": "[4, 5]\n[3, 4, 5, 6, 7]\n[2, 3, 4, 5, 6, 7, 8, 9, 10, 11, 12]\n",
          "output_type": "stream"
        }
      ],
      "execution_count": 4
    },
    {
      "cell_type": "code",
      "source": "def car_listing(car_prices):\n  result = \"\"\n  # Complete the for loop to iterate through the key and value items \n  # in the dictionary.\n  for name, price in car_prices.items():\n    result += \"A {} costs {} dollars\".format(name, price) + \"\\n\" # Use a string method to format the required string. \n  return result\n\nprint(car_listing({\"Kia Soul\":19000, \"Lamborghini Diablo\":55000, \"Ford Fiesta\":13000, \"Toyota Prius\":24000}))\n\n# Should print:\n# A Kia Soul costs 19000 dollars\n# A Lamborghini Diablo costs 55000 dollars\n# A Ford Fiesta costs 13000 dollars\n# A Toyota Prius costs 24000 dollars",
      "metadata": {
        "trusted": true
      },
      "outputs": [
        {
          "name": "stdout",
          "text": "A Kia Soul costs 19000 dollars\nA Lamborghini Diablo costs 55000 dollars\nA Ford Fiesta costs 13000 dollars\nA Toyota Prius costs 24000 dollars\n\n",
          "output_type": "stream"
        }
      ],
      "execution_count": 5
    },
    {
      "cell_type": "code",
      "source": "def combine_guests(guests1, guests2):\n  guests2.update(guests1) # Use a dictionary method to combine the dictionaries.\n  return guests2\n\nRicks_guests = { \"Adam\":2, \"Camila\":3, \"David\":1, \"Jamal\":3, \"Charley\":2, \"Titus\":1, \"Raj\":4}\nTessas_guests = { \"David\":4, \"Noemi\":1, \"Raj\":2, \"Adam\":1, \"Sakira\":3, \"Chidi\":5}\n\nprint(combine_guests(Ricks_guests, Tessas_guests))\n# Should print:\n# {'David': 1, 'Noemi': 1, 'Raj': 4, 'Adam': 2, 'Sakira': 3, 'Chidi': 5, 'Camila': 3, 'Jamal': 3, 'Charley': 2, 'Titus': 1}\n",
      "metadata": {
        "trusted": true
      },
      "outputs": [
        {
          "name": "stdout",
          "text": "{'David': 1, 'Noemi': 1, 'Raj': 4, 'Adam': 2, 'Sakira': 3, 'Chidi': 5, 'Camila': 3, 'Jamal': 3, 'Charley': 2, 'Titus': 1}\n",
          "output_type": "stream"
        }
      ],
      "execution_count": 6
    },
    {
      "cell_type": "code",
      "source": "def setup_gradebook(old_gradebook):\n  # Use a dictionary method to create a new copy of the \"old_gradebook\".\n  new_gradebook = old_gradebook.copy() \n  # Complete the for loop to iterate over the new gradebook. \n  for name, score in new_gradebook.items():\n    # Use a dictionary operation to reset the grade values to 0.\n    new_gradebook[name] = 0\n  return new_gradebook\n\nfall_gradebook = {\"James\": 93, \"Felicity\": 98, \"Barakaa\": 80}\nprint(setup_gradebook(fall_gradebook))\n# Should output {'James': 0, 'Felicity': 0, 'Barakaa': 0}\n",
      "metadata": {
        "trusted": true
      },
      "outputs": [
        {
          "name": "stdout",
          "text": "{'James': 0, 'Felicity': 0, 'Barakaa': 0}\n",
          "output_type": "stream"
        }
      ],
      "execution_count": 7
    }
  ]
}