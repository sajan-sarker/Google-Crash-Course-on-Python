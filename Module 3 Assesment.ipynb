{
  "metadata": {
    "kernelspec": {
      "name": "python",
      "display_name": "Python (Pyodide)",
      "language": "python"
    },
    "language_info": {
      "codemirror_mode": {
        "name": "python",
        "version": 3
      },
      "file_extension": ".py",
      "mimetype": "text/x-python",
      "name": "python",
      "nbconvert_exporter": "python",
      "pygments_lexer": "ipython3",
      "version": "3.8"
    }
  },
  "nbformat_minor": 4,
  "nbformat": 4,
  "cells": [
    {
      "cell_type": "code",
      "source": "number = 15\nwhile number >= 5:\n    print(number, end= \" \")\n    number -=5\n    ",
      "metadata": {
        "trusted": true
      },
      "outputs": [
        {
          "name": "stdout",
          "text": "15 10 5 ",
          "output_type": "stream"
        }
      ],
      "execution_count": 2
    },
    {
      "cell_type": "code",
      "source": "for number in range (5, -1, -1):\n    print(number)",
      "metadata": {
        "trusted": true
      },
      "outputs": [
        {
          "name": "stdout",
          "text": "5\n4\n3\n2\n1\n0\n",
          "output_type": "stream"
        }
      ],
      "execution_count": 4
    },
    {
      "cell_type": "code",
      "source": "def even_numbers(n):\n    count = 0\n    current_number = 0\n    while current_number <= n:\n        if current_number %2 == 0:\n            count += 1\n        current_number += 1\n    return count\n\nprint(even_numbers(25))\nprint(even_numbers(144))\nprint(even_numbers(1000))\nprint(even_numbers(0))",
      "metadata": {
        "trusted": true
      },
      "outputs": [
        {
          "name": "stdout",
          "text": "13\n73\n501\n1\n",
          "output_type": "stream"
        }
      ],
      "execution_count": 6
    },
    {
      "cell_type": "code",
      "source": "def multiplication_table(start, stop):\n    for x in range(start, stop + 1):\n        for y in range(start, stop + 1):\n            print(str(x * y), end = \" \")\n        print()\n\nmultiplication_table(1, 3)",
      "metadata": {
        "trusted": true
      },
      "outputs": [
        {
          "name": "stdout",
          "text": "1 2 3 \n2 4 6 \n3 6 9 \n",
          "output_type": "stream"
        }
      ],
      "execution_count": 7
    },
    {
      "cell_type": "code",
      "source": "def divisible(max, divisor):\n    count = 0\n    for x in range (max):\n        if x % divisor == 0:\n            count += 1\n    return count\n\nprint(divisible(100, 10))\nprint(divisible(10, 3))\nprint(divisible(144, 17))",
      "metadata": {
        "trusted": true
      },
      "outputs": [
        {
          "name": "stdout",
          "text": "10\n4\n9\n",
          "output_type": "stream"
        }
      ],
      "execution_count": 8
    },
    {
      "cell_type": "code",
      "source": "def even_numbers(maximum):\n    return_string = \" \"\n    for x in range (1, maximum+1):\n        if x % 2 == 0:\n            return_string += str(x)\n            if x % 2 ==0:\n                return_string += str(\" \")\n    return return_string.strip()\n\nprint(even_numbers(6))\nprint(even_numbers(10))\nprint(even_numbers(1))\nprint(even_numbers(3))\nprint(even_numbers(0))",
      "metadata": {
        "trusted": true
      },
      "outputs": [
        {
          "name": "stdout",
          "text": "2 4 6\n2 4 6 8 10\n\n2\n\n",
          "output_type": "stream"
        }
      ],
      "execution_count": 13
    },
    {
      "cell_type": "code",
      "source": "for count in range(1, 6):\n    print(count+1)",
      "metadata": {
        "trusted": true
      },
      "outputs": [
        {
          "name": "stdout",
          "text": "2\n3\n4\n5\n6\n",
          "output_type": "stream"
        }
      ],
      "execution_count": 14
    },
    {
      "cell_type": "code",
      "source": "for outer_loop in range(2, 7):\n    for inner_loop in range(outer_loop):\n        if inner_loop %2 ==0:\n            print(inner_loop)\n        ",
      "metadata": {
        "trusted": true
      },
      "outputs": [
        {
          "name": "stdout",
          "text": "0\n0\n2\n0\n2\n0\n2\n4\n0\n2\n4\n",
          "output_type": "stream"
        }
      ],
      "execution_count": 15
    },
    {
      "cell_type": "code",
      "source": "def count_to_ten():\n    x= 1\n    while x <= 10:\n        print(x)\n        x += 1\n\ncount_to_ten()",
      "metadata": {
        "trusted": true
      },
      "outputs": [
        {
          "name": "stdout",
          "text": "1\n2\n3\n4\n5\n6\n7\n8\n9\n10\n",
          "output_type": "stream"
        }
      ],
      "execution_count": 20
    }
  ]
}