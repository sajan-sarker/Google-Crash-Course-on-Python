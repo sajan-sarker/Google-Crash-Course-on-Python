{
  "metadata": {
    "kernelspec": {
      "name": "python",
      "display_name": "Python (Pyodide)",
      "language": "python"
    },
    "language_info": {
      "codemirror_mode": {
        "name": "python",
        "version": 3
      },
      "file_extension": ".py",
      "mimetype": "text/x-python",
      "name": "python",
      "nbconvert_exporter": "python",
      "pygments_lexer": "ipython3",
      "version": "3.8"
    }
  },
  "nbformat_minor": 4,
  "nbformat": 4,
  "cells": [
    {
      "cell_type": "code",
      "source": "print(\"2 + 2 = \" + str(2 + 2))",
      "metadata": {
        "trusted": true
      },
      "outputs": [
        {
          "name": "stdout",
          "text": "2 + 2 = 4\n",
          "output_type": "stream"
        }
      ],
      "execution_count": 1
    },
    {
      "cell_type": "code",
      "source": "bill = 47.28 # Assign \"bill\" variable with bill amount\ntip = bill * 0.15 # Multiply by stated tip rate \ntotal = bill + tip # Sum the \"total\" of the \"bill\" and \"tip\"\nshare = total/2 # Divide \"total\" by number of friends dining\nprint(\"Each person needs to pay: \" + str(share)) # Enter the required string and \"share\" \n# Hint: Remember to convert incompatible data types",
      "metadata": {
        "trusted": true
      },
      "outputs": [
        {
          "name": "stdout",
          "text": "Each person needs to pay: 27.186\n",
          "output_type": "stream"
        }
      ],
      "execution_count": 2
    },
    {
      "cell_type": "code",
      "source": "numerator = 10\ndenominator = 10\nresult = numerator / denominator\nprint(int(result))",
      "metadata": {
        "trusted": true
      },
      "outputs": [
        {
          "name": "stdout",
          "text": "1\n",
          "output_type": "stream"
        }
      ],
      "execution_count": 3
    },
    {
      "cell_type": "code",
      "source": "word1 = \"How\"\nword2 = \"do\"\nword3 = \"you\"\nword4 = \"like\"\nword5 = \"Python\"\nword6 = \"so\"\nword7 = \"far?\"\n\nprint(word1, word2, word3, word4, word5, word6, word7)",
      "metadata": {
        "trusted": true
      },
      "outputs": [
        {
          "name": "stdout",
          "text": "How do you like Python so far?\n",
          "output_type": "stream"
        }
      ],
      "execution_count": 4
    },
    {
      "cell_type": "code",
      "source": "# 1) Complete the code to return the result of the conversion\ndef convert_distance(km):\n\tm = km * 1000  # exactly 1000 meters in 1 kilometer\n\treturn m\n\n\n# Do not indent any of the following lines of code as they are\n# meant to be located outside of the function above\n\n\nmy_trip_kilometers = 55\n\n\n# 2) Convert my_trip_kilometers to meters by calling the function above\nmy_trip_meters = convert_distance(my_trip_kilometers)\n\n\n# 3) Fill in the blank to print the result of converting my_trip_kilometers\nprint(\"The distance in meters is \" + str(my_trip_meters))\n",
      "metadata": {
        "trusted": true
      },
      "outputs": [
        {
          "name": "stdout",
          "text": "The distance in meters is 55000\n",
          "output_type": "stream"
        }
      ],
      "execution_count": 5
    },
    {
      "cell_type": "code",
      "source": "def print_seconds(hours, minutes, seconds):\n    print(hours*3600+minutes*60+seconds)\n\n\nprint_seconds(1,2,3)",
      "metadata": {
        "trusted": true
      },
      "outputs": [
        {
          "name": "stdout",
          "text": "3723\n",
          "output_type": "stream"
        }
      ],
      "execution_count": 6
    },
    {
      "cell_type": "code",
      "source": "def greeting(name):\n  if name == \"Taylor\":\n    return \"Welcome back Taylor!\"\n  else:\n    return \"Hello there, \" + name\n\nprint(greeting(\"Taylor\"))\nprint(greeting(\"John\"))",
      "metadata": {
        "trusted": true
      },
      "outputs": [
        {
          "name": "stdout",
          "text": "Welcome back Taylor!\nHello there, John\n",
          "output_type": "stream"
        }
      ],
      "execution_count": 7
    },
    {
      "cell_type": "code",
      "source": "def calculate_storage(filesize):\n    block_size = 4096\n    # Use floor division to calculate how many blocks are fully occupied\n    full_blocks = block_size/filesize\n    # Use the modulo operator to check whether there's any remainder\n    partial_block_remainder = block_size % full_blocks\n    # Depending on whether there's a remainder or not, return\n    # the total number of bytes required to allocate enough blocks\n    # to store your data.\n    if partial_block_remainder > 0:\n        return block_size * 2\n    return block_size\n\nprint(calculate_storage(1))    # Should be 4096\nprint(calculate_storage(4096)) # Should be 4096\nprint(calculate_storage(4097)) # Should be 8192\nprint(calculate_storage(6000)) # Should be 8192",
      "metadata": {
        "trusted": true
      },
      "outputs": [
        {
          "name": "stdout",
          "text": "4096\n4096\n8192\n8192\n",
          "output_type": "stream"
        }
      ],
      "execution_count": 9
    },
    {
      "cell_type": "code",
      "source": "# A function is created with the def() keyword. The parameter\n# variable \"time_as_string\" is passed to the function through a \n# call to the function.\ndef task_reminder(time_as_string):\n\n    # The following if-elif-else block assigns various strings to\n    # the variable \"task\" depending on specific conditions. The\n    # test conditions are set using the == equality comparison \n    # operator. In this case, the time passed through the \n    # \"time_as_string\" parameter variable is tested as the \n    # specific condition. So, if the time  is \"11:30 a.m.\", then \n    # \"task\" is assigned the value: \"Run TPS report\".\n    if time_as_string == \"8:00 a.m.\":\n        task = \"Check overnight backup images\"\n    elif time_as_string == \"11:30 a.m.\":\n        task = \"Run TPS report\"\n    elif time_as_string == \"5:30 p.m.\":\n        task = \"Reboot servers\"\n    # The else statement is a catchall for all other values of \n    # the \"time_as_string\" parameter variable not listed in the\n    # if-elif block of code.\n    else:\n        task = \"Provide IT Support to employees\"\n\n    # This line returns the value of \"task\" to the function call.\n    return task\n\n# This line calls the function and passes a parameter  \n# (\"10:00 a.m.\") to the function.\nprint(task_reminder(\"10:00 a.m.\"))\n# Should print \"Provide IT Support to employees\"\n",
      "metadata": {
        "trusted": true
      },
      "outputs": [
        {
          "name": "stdout",
          "text": "Provide IT Support to employees\n",
          "output_type": "stream"
        }
      ],
      "execution_count": 10
    },
    {
      "cell_type": "code",
      "source": "# Example 1\n# Evaluate the output of this print statement\n\ndef product(a, b):\n        return(a*b)\n\nprint(product(product(2,4), product(3,5)))\n \n#################################\n\n# Example 2 \n# Evaluate the output of this print statement\n\ndef difference(a, b):\n        return(a-b)\n\ndef sum(a, b):\n        return(a+b)\n\nprint(difference(sum(2,2), sum(3,3)))\n\n\n#################################\n\n\n# Example 3\n# Evaluate the Boolean output of this comparison\n\n\nprint((5 >= 2*4) and (5 <= 4*3))\n\n\n#################################\n\n\n# Example 4 \n# Evaluate the value of the comparison in the if statement \n\n\nx = 3\nif x+5 > x**2 or x % 4 != 0:\n        print(\"This comparison is True\")\n\n\n#################################\n\n\n# Example 5 \n# Evaluate the output of this if-elif-else statement\n\n\nnumber = 6\nif number * 2 < 14:\n        print(number * 6 % 3)\nelif number > 7:\n        print(100 / number)\nelse:\n        print(7 - number)\n\n\n# Click Run to check your answers. If you are having trouble \n# calculating the correct answers manually, please review the\n# Practice Quiz Study Guides, videos, and readings in this Module.\n",
      "metadata": {
        "trusted": true
      },
      "outputs": [
        {
          "name": "stdout",
          "text": "120\n-2\nFalse\nThis comparison is True\n0\n",
          "output_type": "stream"
        }
      ],
      "execution_count": 11
    },
    {
      "cell_type": "code",
      "source": "def get_remainder(x, y):\n \n  if x == 0 or y == 0 or x ==y:\n    remainder = 0\n  else:\n    remainder = (x % y) / y\n  return remainder\n\n\nprint(get_remainder(10, 3))\n",
      "metadata": {
        "trusted": true
      },
      "outputs": [
        {
          "name": "stdout",
          "text": "0.3333333333333333\n",
          "output_type": "stream"
        }
      ],
      "execution_count": 12
    }
  ]
}