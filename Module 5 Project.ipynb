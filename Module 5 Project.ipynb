{
  "metadata": {
    "kernelspec": {
      "name": "python",
      "display_name": "Python (Pyodide)",
      "language": "python"
    },
    "language_info": {
      "codemirror_mode": {
        "name": "python",
        "version": 3
      },
      "file_extension": ".py",
      "mimetype": "text/x-python",
      "name": "python",
      "nbconvert_exporter": "python",
      "pygments_lexer": "ipython3",
      "version": "3.8"
    }
  },
  "nbformat_minor": 4,
  "nbformat": 4,
  "cells": [
    {
      "cell_type": "code",
      "source": "#it will get the event and return the date from the event.\ndef get_event_date(event):\n    return event.date\n\n\n# processing function\n# it will get the event and return the machines which are loggedin\n# as dictionary format.\ndef current_users(events):\n    # it will short the events by date.\n    events.sort(key = get_event_date)\n    # create new dictionary\n    machines = {}\n\n    # iterate all the list of event happend in events\n    for event in events:\n        # add new entry if not in the new dictionary of sets\n        if event.machine not in machines:\n            machines[event.machine] = set()\n        # add to the dictionary if user is loggedin\n        if event.type == \"login\":\n            machines[event.machine].add(event.user)\n        # remove from the dictionary if user is loggedout \n        # and if he is in the dictionary\n        elif event.type == \"logout\":\n            if event.user in machines[event.machine]:\n                machines[event.machine].remove(event.user)\n    # return the new dictionary with loggedin users\n    return machines\n\n\n# this function will generate a report of those users who are loggedin\ndef generate_report(machines):\n    # iterates all the users and machines from the recived dictionary\n    for machine, users in machines.items():\n        # if user is not loggedin it will not print anything\n        if len(users) > 0:\n            user_list = \", \".join(users)\n            # print the machine name and users in the report\n            print(\"{}: {}\".format(machine, user_list))",
      "metadata": {
        "trusted": true
      },
      "outputs": [],
      "execution_count": 47
    },
    {
      "cell_type": "code",
      "source": "# create a Event class\nclass Event:\n    # Defineing constructor\n    def __init__(self, event_date, event_type, machine_name, user):\n        self.date = event_date\n        self.type = event_type\n        self.machine = machine_name\n        self.user = user ",
      "metadata": {
        "trusted": true
      },
      "outputs": [],
      "execution_count": 48
    },
    {
      "cell_type": "code",
      "source": "# All the Events\nevents = [\n    Event('2020-01-21 12:45:56', 'login', 'myworkstation.local', 'jordan'),\n    Event('2020-01-22 15:53:42', 'logout', 'webserver.local', 'jordan'),\n    Event('2020-01-21 18:53:21', 'login', 'webserver.local', 'lane'),\n    Event('2020-01-22 10:25:34', 'logout', 'myworkstation.local', 'jordan'),\n    Event('2020-01-21 08:20:01', 'login', 'webserver.local', 'jordan'),\n    Event('2020-01-23 11:24:35', 'login', 'mailserver.local', 'chris'),\n]",
      "metadata": {
        "trusted": true
      },
      "outputs": [],
      "execution_count": 49
    },
    {
      "cell_type": "code",
      "source": "# called the current_ser function\nusers = current_users(events)\n# print the users\nprint(users)",
      "metadata": {
        "trusted": true
      },
      "outputs": [
        {
          "name": "stdout",
          "text": "{'webserver.local': {'lane'}, 'myworkstation.local': set(), 'mailserver.local': {'chris'}}\n",
          "output_type": "stream"
        }
      ],
      "execution_count": 50
    },
    {
      "cell_type": "code",
      "source": "# generating the report of loggedin users\ngenerate_report(users)",
      "metadata": {
        "trusted": true
      },
      "outputs": [
        {
          "name": "stdout",
          "text": "webserver.local: lane\nmailserver.local: chris\n",
          "output_type": "stream"
        }
      ],
      "execution_count": 51
    }
  ]
}