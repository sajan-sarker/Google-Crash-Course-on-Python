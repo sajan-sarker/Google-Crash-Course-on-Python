{
  "metadata": {
    "kernelspec": {
      "name": "python",
      "display_name": "Python (Pyodide)",
      "language": "python"
    },
    "language_info": {
      "codemirror_mode": {
        "name": "python",
        "version": 3
      },
      "file_extension": ".py",
      "mimetype": "text/x-python",
      "name": "python",
      "nbconvert_exporter": "python",
      "pygments_lexer": "ipython3",
      "version": "3.8"
    }
  },
  "nbformat_minor": 4,
  "nbformat": 4,
  "cells": [
    {
      "cell_type": "code",
      "source": "name = \"Marjery\"\nhome_address = \"1234 Mockingbird Lane\"\nprint(name + \" lives at her home address of \" + home_address)\n# Should print \"Marjery lives at her home address of 1234 Mockingbird Lane\"",
      "metadata": {
        "trusted": true
      },
      "outputs": [
        {
          "name": "stdout",
          "text": "Marjery lives at her home address of 1234 Mockingbird Lane\n",
          "output_type": "stream"
        }
      ],
      "execution_count": 1
    },
    {
      "cell_type": "code",
      "source": "number = 4\nif number * 4 < 15:\n print(number / 4)\nelif number < 5:\n print(number + 3)\nelse:\n print(number * 2 % 5)",
      "metadata": {
        "trusted": true
      },
      "outputs": [
        {
          "name": "stdout",
          "text": "7\n",
          "output_type": "stream"
        }
      ],
      "execution_count": 2
    },
    {
      "cell_type": "code",
      "source": "def speeding_ticket(speed):\n    if speed >=80:\n        ticket = \"Reckless Driving\"\n    elif speed > 65:\n        ticket = \"Speeding\"\n    else:\n        ticket = \"Safe\"\n    return ticket\n\n\nprint(speeding_ticket(87)) # Should print Reckless Driving\nprint(speeding_ticket(66)) # Should print Speeding\nprint(speeding_ticket(65)) # Should print Safe\nprint(speeding_ticket(85)) # Should print Reckless Driving\nprint(speeding_ticket(35)) # Should print Safe\nprint(speeding_ticket(77)) # Should print Speeding",
      "metadata": {
        "trusted": true
      },
      "outputs": [
        {
          "name": "stdout",
          "text": "Reckless Driving\nSpeeding\nSafe\nReckless Driving\nSafe\nSpeeding\n",
          "output_type": "stream"
        }
      ],
      "execution_count": 3
    },
    {
      "cell_type": "code",
      "source": "n = 4\nif n*6 > n**2 or n%2 == 0:\n    print(\"Check\")\n",
      "metadata": {
        "trusted": true
      },
      "outputs": [
        {
          "name": "stdout",
          "text": "Check\n",
          "output_type": "stream"
        }
      ],
      "execution_count": 4
    },
    {
      "cell_type": "code",
      "source": "def complementary_color(color):\n    if color == \"blue\":\n        complement = \"orange\"\n    elif color == \"yellow\":\n        complement = \"purple\"\n    elif color == \"red\":\n        complement = \"green\"\n    else:\n        complement = \"unknown\"\n    return complement\n\nprint(complementary_color(\"blue\")) # Should print orange\nprint(complementary_color(\"yellow\")) # Should print purple\nprint(complementary_color(\"red\")) # Should print green\nprint(complementary_color(\"black\")) # Should print unknown\nprint(complementary_color(\"Blue\")) # Should print unknown\nprint(complementary_color(\"\")) # Should print unknown",
      "metadata": {
        "trusted": true
      },
      "outputs": [
        {
          "name": "stdout",
          "text": "orange\npurple\ngreen\nunknown\nunknown\nunknown\n",
          "output_type": "stream"
        }
      ],
      "execution_count": 5
    },
    {
      "cell_type": "code",
      "source": "def sum(x, y):\n        return(x+y)\nprint(sum(sum(1,2), sum(3,4)))",
      "metadata": {
        "trusted": true
      },
      "outputs": [
        {
          "name": "stdout",
          "text": "10\n",
          "output_type": "stream"
        }
      ],
      "execution_count": 6
    },
    {
      "cell_type": "code",
      "source": "def fractional_part(numerator, denominator):\n    # Operate with numerator and denominator to\n    # keep just the fractional part of the quotient \n    if denominator == 0 or numerator == 0 or False:\n        part = 0\n    else:\n        part = (numerator%denominator)/denominator\n    return part\n\n\nprint(fractional_part(5, 5)) # Should print 0\nprint(fractional_part(5, 4)) # Should print 0.25\nprint(fractional_part(5, 3)) # Should print 0.66...\nprint(fractional_part(5, 2)) # Should print 0.5\nprint(fractional_part(5, 0)) # Should print 0\nprint(fractional_part(0, 5)) # Should print 0",
      "metadata": {
        "trusted": true
      },
      "outputs": [
        {
          "name": "stdout",
          "text": "0.0\n0.25\n0.6666666666666666\n0.5\n0\n0\n",
          "output_type": "stream"
        }
      ],
      "execution_count": 8
    }
  ]
}